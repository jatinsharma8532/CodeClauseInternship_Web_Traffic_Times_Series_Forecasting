{
  "nbformat": 4,
  "nbformat_minor": 0,
  "metadata": {
    "accelerator": "GPU",
    "colab": {
      "name": "CS1_Modeling",
      "provenance": [],
      "collapsed_sections": [],
      "machine_shape": "hm"
    },
    "kernelspec": {
      "display_name": "Python 3",
      "language": "python",
      "name": "python3"
    },
    "language_info": {
      "codemirror_mode": {
        "name": "ipython",
        "version": 3
      },
      "file_extension": ".py",
      "mimetype": "text/x-python",
      "name": "python",
      "nbconvert_exporter": "python",
      "pygments_lexer": "ipython3",
      "version": "3.7.4"
    },
    "widgets": {
      "application/vnd.jupyter.widget-state+json": {
        "e5282ca7ab084d2187eab0c24ac4e042": {
          "model_module": "@jupyter-widgets/controls",
          "model_name": "HBoxModel",
          "state": {
            "_dom_classes": [],
            "_model_module": "@jupyter-widgets/controls",
            "_model_module_version": "1.5.0",
            "_model_name": "HBoxModel",
            "_view_count": null,
            "_view_module": "@jupyter-widgets/controls",
            "_view_module_version": "1.5.0",
            "_view_name": "HBoxView",
            "box_style": "",
            "children": [
              "IPY_MODEL_e1a84b569c884c519605f9d1a5067f8d",
              "IPY_MODEL_b74eeb879a6c4eceb850dd9c822d701f"
            ],
            "layout": "IPY_MODEL_95e98b0122414c3a865e7a6502a99445"
          }
        },
        "e1a84b569c884c519605f9d1a5067f8d": {
          "model_module": "@jupyter-widgets/controls",
          "model_name": "FloatProgressModel",
          "state": {
            "_dom_classes": [],
            "_model_module": "@jupyter-widgets/controls",
            "_model_module_version": "1.5.0",
            "_model_name": "FloatProgressModel",
            "_view_count": null,
            "_view_module": "@jupyter-widgets/controls",
            "_view_module_version": "1.5.0",
            "_view_name": "ProgressView",
            "bar_style": "success",
            "description": "100%",
            "description_tooltip": null,
            "layout": "IPY_MODEL_a11fc0ecb71a42b3a034b2c835405024",
            "max": 145063,
            "min": 0,
            "orientation": "horizontal",
            "style": "IPY_MODEL_82b0eeed3e8c42ba8a032efb24c54db9",
            "value": 145063
          }
        },
        "b74eeb879a6c4eceb850dd9c822d701f": {
          "model_module": "@jupyter-widgets/controls",
          "model_name": "HTMLModel",
          "state": {
            "_dom_classes": [],
            "_model_module": "@jupyter-widgets/controls",
            "_model_module_version": "1.5.0",
            "_model_name": "HTMLModel",
            "_view_count": null,
            "_view_module": "@jupyter-widgets/controls",
            "_view_module_version": "1.5.0",
            "_view_name": "HTMLView",
            "description": "",
            "description_tooltip": null,
            "layout": "IPY_MODEL_8379718b683b4e4788b4ffc832041d45",
            "placeholder": "​",
            "style": "IPY_MODEL_6f843213bb034a65b228730043566074",
            "value": " 145063/145063 [00:23&lt;00:00, 6289.47it/s]"
          }
        },
        "95e98b0122414c3a865e7a6502a99445": {
          "model_module": "@jupyter-widgets/base",
          "model_name": "LayoutModel",
          "state": {
            "_model_module": "@jupyter-widgets/base",
            "_model_module_version": "1.2.0",
            "_model_name": "LayoutModel",
            "_view_count": null,
            "_view_module": "@jupyter-widgets/base",
            "_view_module_version": "1.2.0",
            "_view_name": "LayoutView",
            "align_content": null,
            "align_items": null,
            "align_self": null,
            "border": null,
            "bottom": null,
            "display": null,
            "flex": null,
            "flex_flow": null,
            "grid_area": null,
            "grid_auto_columns": null,
            "grid_auto_flow": null,
            "grid_auto_rows": null,
            "grid_column": null,
            "grid_gap": null,
            "grid_row": null,
            "grid_template_areas": null,
            "grid_template_columns": null,
            "grid_template_rows": null,
            "height": null,
            "justify_content": null,
            "justify_items": null,
            "left": null,
            "margin": null,
            "max_height": null,
            "max_width": null,
            "min_height": null,
            "min_width": null,
            "object_fit": null,
            "object_position": null,
            "order": null,
            "overflow": null,
            "overflow_x": null,
            "overflow_y": null,
            "padding": null,
            "right": null,
            "top": null,
            "visibility": null,
            "width": null
          }
        },
        "a11fc0ecb71a42b3a034b2c835405024": {
          "model_module": "@jupyter-widgets/base",
          "model_name": "LayoutModel",
          "state": {
            "_model_module": "@jupyter-widgets/base",
            "_model_module_version": "1.2.0",
            "_model_name": "LayoutModel",
            "_view_count": null,
            "_view_module": "@jupyter-widgets/base",
            "_view_module_version": "1.2.0",
            "_view_name": "LayoutView",
            "align_content": null,
            "align_items": null,
            "align_self": null,
            "border": null,
            "bottom": null,
            "display": null,
            "flex": null,
            "flex_flow": null,
            "grid_area": null,
            "grid_auto_columns": null,
            "grid_auto_flow": null,
            "grid_auto_rows": null,
            "grid_column": null,
            "grid_gap": null,
            "grid_row": null,
            "grid_template_areas": null,
            "grid_template_columns": null,
            "grid_template_rows": null,
            "height": null,
            "justify_content": null,
            "justify_items": null,
            "left": null,
            "margin": null,
            "max_height": null,
            "max_width": null,
            "min_height": null,
            "min_width": null,
            "object_fit": null,
            "object_position": null,
            "order": null,
            "overflow": null,
            "overflow_x": null,
            "overflow_y": null,
            "padding": null,
            "right": null,
            "top": null,
            "visibility": null,
            "width": null
          }
        },
        "82b0eeed3e8c42ba8a032efb24c54db9": {
          "model_module": "@jupyter-widgets/controls",
          "model_name": "ProgressStyleModel",
          "state": {
            "_model_module": "@jupyter-widgets/controls",
            "_model_module_version": "1.5.0",
            "_model_name": "ProgressStyleModel",
            "_view_count": null,
            "_view_module": "@jupyter-widgets/base",
            "_view_module_version": "1.2.0",
            "_view_name": "StyleView",
            "bar_color": null,
            "description_width": "initial"
          }
        },
        "8379718b683b4e4788b4ffc832041d45": {
          "model_module": "@jupyter-widgets/base",
          "model_name": "LayoutModel",
          "state": {
            "_model_module": "@jupyter-widgets/base",
            "_model_module_version": "1.2.0",
            "_model_name": "LayoutModel",
            "_view_count": null,
            "_view_module": "@jupyter-widgets/base",
            "_view_module_version": "1.2.0",
            "_view_name": "LayoutView",
            "align_content": null,
            "align_items": null,
            "align_self": null,
            "border": null,
            "bottom": null,
            "display": null,
            "flex": null,
            "flex_flow": null,
            "grid_area": null,
            "grid_auto_columns": null,
            "grid_auto_flow": null,
            "grid_auto_rows": null,
            "grid_column": null,
            "grid_gap": null,
            "grid_row": null,
            "grid_template_areas": null,
            "grid_template_columns": null,
            "grid_template_rows": null,
            "height": null,
            "justify_content": null,
            "justify_items": null,
            "left": null,
            "margin": null,
            "max_height": null,
            "max_width": null,
            "min_height": null,
            "min_width": null,
            "object_fit": null,
            "object_position": null,
            "order": null,
            "overflow": null,
            "overflow_x": null,
            "overflow_y": null,
            "padding": null,
            "right": null,
            "top": null,
            "visibility": null,
            "width": null
          }
        },
        "6f843213bb034a65b228730043566074": {
          "model_module": "@jupyter-widgets/controls",
          "model_name": "DescriptionStyleModel",
          "state": {
            "_model_module": "@jupyter-widgets/controls",
            "_model_module_version": "1.5.0",
            "_model_name": "DescriptionStyleModel",
            "_view_count": null,
            "_view_module": "@jupyter-widgets/base",
            "_view_module_version": "1.2.0",
            "_view_name": "StyleView",
            "description_width": ""
          }
        },
        "222b35d1f52d401dbe0b5839024f5a25": {
          "model_module": "@jupyter-widgets/controls",
          "model_name": "HBoxModel",
          "state": {
            "_dom_classes": [],
            "_model_module": "@jupyter-widgets/controls",
            "_model_module_version": "1.5.0",
            "_model_name": "HBoxModel",
            "_view_count": null,
            "_view_module": "@jupyter-widgets/controls",
            "_view_module_version": "1.5.0",
            "_view_name": "HBoxView",
            "box_style": "",
            "children": [
              "IPY_MODEL_40d5d2bdbe854f78b64c877e301282a1",
              "IPY_MODEL_924423c78dda44ed84a3740189393fcd"
            ],
            "layout": "IPY_MODEL_414d1546d8604aaa814ffaeb6c73653a"
          }
        },
        "40d5d2bdbe854f78b64c877e301282a1": {
          "model_module": "@jupyter-widgets/controls",
          "model_name": "FloatProgressModel",
          "state": {
            "_dom_classes": [],
            "_model_module": "@jupyter-widgets/controls",
            "_model_module_version": "1.5.0",
            "_model_name": "FloatProgressModel",
            "_view_count": null,
            "_view_module": "@jupyter-widgets/controls",
            "_view_module_version": "1.5.0",
            "_view_name": "ProgressView",
            "bar_style": "success",
            "description": "100%",
            "description_tooltip": null,
            "layout": "IPY_MODEL_cc30ab37b52248cc9837b1897aa409f5",
            "max": 145063,
            "min": 0,
            "orientation": "horizontal",
            "style": "IPY_MODEL_9b9e2e59e0fd428db666d3388e7d55a4",
            "value": 145063
          }
        },
        "924423c78dda44ed84a3740189393fcd": {
          "model_module": "@jupyter-widgets/controls",
          "model_name": "HTMLModel",
          "state": {
            "_dom_classes": [],
            "_model_module": "@jupyter-widgets/controls",
            "_model_module_version": "1.5.0",
            "_model_name": "HTMLModel",
            "_view_count": null,
            "_view_module": "@jupyter-widgets/controls",
            "_view_module_version": "1.5.0",
            "_view_name": "HTMLView",
            "description": "",
            "description_tooltip": null,
            "layout": "IPY_MODEL_ef55d690fc9e44809ca9fcedf971b142",
            "placeholder": "​",
            "style": "IPY_MODEL_6ed1ff8e64f04b08b69d3edbc0021350",
            "value": " 145063/145063 [00:40&lt;00:00, 3557.85it/s]"
          }
        },
        "414d1546d8604aaa814ffaeb6c73653a": {
          "model_module": "@jupyter-widgets/base",
          "model_name": "LayoutModel",
          "state": {
            "_model_module": "@jupyter-widgets/base",
            "_model_module_version": "1.2.0",
            "_model_name": "LayoutModel",
            "_view_count": null,
            "_view_module": "@jupyter-widgets/base",
            "_view_module_version": "1.2.0",
            "_view_name": "LayoutView",
            "align_content": null,
            "align_items": null,
            "align_self": null,
            "border": null,
            "bottom": null,
            "display": null,
            "flex": null,
            "flex_flow": null,
            "grid_area": null,
            "grid_auto_columns": null,
            "grid_auto_flow": null,
            "grid_auto_rows": null,
            "grid_column": null,
            "grid_gap": null,
            "grid_row": null,
            "grid_template_areas": null,
            "grid_template_columns": null,
            "grid_template_rows": null,
            "height": null,
            "justify_content": null,
            "justify_items": null,
            "left": null,
            "margin": null,
            "max_height": null,
            "max_width": null,
            "min_height": null,
            "min_width": null,
            "object_fit": null,
            "object_position": null,
            "order": null,
            "overflow": null,
            "overflow_x": null,
            "overflow_y": null,
            "padding": null,
            "right": null,
            "top": null,
            "visibility": null,
            "width": null
          }
        },
        "cc30ab37b52248cc9837b1897aa409f5": {
          "model_module": "@jupyter-widgets/base",
          "model_name": "LayoutModel",
          "state": {
            "_model_module": "@jupyter-widgets/base",
            "_model_module_version": "1.2.0",
            "_model_name": "LayoutModel",
            "_view_count": null,
            "_view_module": "@jupyter-widgets/base",
            "_view_module_version": "1.2.0",
            "_view_name": "LayoutView",
            "align_content": null,
            "align_items": null,
            "align_self": null,
            "border": null,
            "bottom": null,
            "display": null,
            "flex": null,
            "flex_flow": null,
            "grid_area": null,
            "grid_auto_columns": null,
            "grid_auto_flow": null,
            "grid_auto_rows": null,
            "grid_column": null,
            "grid_gap": null,
            "grid_row": null,
            "grid_template_areas": null,
            "grid_template_columns": null,
            "grid_template_rows": null,
            "height": null,
            "justify_content": null,
            "justify_items": null,
            "left": null,
            "margin": null,
            "max_height": null,
            "max_width": null,
            "min_height": null,
            "min_width": null,
            "object_fit": null,
            "object_position": null,
            "order": null,
            "overflow": null,
            "overflow_x": null,
            "overflow_y": null,
            "padding": null,
            "right": null,
            "top": null,
            "visibility": null,
            "width": null
          }
        },
        "9b9e2e59e0fd428db666d3388e7d55a4": {
          "model_module": "@jupyter-widgets/controls",
          "model_name": "ProgressStyleModel",
          "state": {
            "_model_module": "@jupyter-widgets/controls",
            "_model_module_version": "1.5.0",
            "_model_name": "ProgressStyleModel",
            "_view_count": null,
            "_view_module": "@jupyter-widgets/base",
            "_view_module_version": "1.2.0",
            "_view_name": "StyleView",
            "bar_color": null,
            "description_width": "initial"
          }
        },
        "ef55d690fc9e44809ca9fcedf971b142": {
          "model_module": "@jupyter-widgets/base",
          "model_name": "LayoutModel",
          "state": {
            "_model_module": "@jupyter-widgets/base",
            "_model_module_version": "1.2.0",
            "_model_name": "LayoutModel",
            "_view_count": null,
            "_view_module": "@jupyter-widgets/base",
            "_view_module_version": "1.2.0",
            "_view_name": "LayoutView",
            "align_content": null,
            "align_items": null,
            "align_self": null,
            "border": null,
            "bottom": null,
            "display": null,
            "flex": null,
            "flex_flow": null,
            "grid_area": null,
            "grid_auto_columns": null,
            "grid_auto_flow": null,
            "grid_auto_rows": null,
            "grid_column": null,
            "grid_gap": null,
            "grid_row": null,
            "grid_template_areas": null,
            "grid_template_columns": null,
            "grid_template_rows": null,
            "height": null,
            "justify_content": null,
            "justify_items": null,
            "left": null,
            "margin": null,
            "max_height": null,
            "max_width": null,
            "min_height": null,
            "min_width": null,
            "object_fit": null,
            "object_position": null,
            "order": null,
            "overflow": null,
            "overflow_x": null,
            "overflow_y": null,
            "padding": null,
            "right": null,
            "top": null,
            "visibility": null,
            "width": null
          }
        },
        "6ed1ff8e64f04b08b69d3edbc0021350": {
          "model_module": "@jupyter-widgets/controls",
          "model_name": "DescriptionStyleModel",
          "state": {
            "_model_module": "@jupyter-widgets/controls",
            "_model_module_version": "1.5.0",
            "_model_name": "DescriptionStyleModel",
            "_view_count": null,
            "_view_module": "@jupyter-widgets/base",
            "_view_module_version": "1.2.0",
            "_view_name": "StyleView",
            "description_width": ""
          }
        },
        "cfbcd2dce52b4cb3b6940b631c6244e4": {
          "model_module": "@jupyter-widgets/controls",
          "model_name": "HBoxModel",
          "state": {
            "_dom_classes": [],
            "_model_module": "@jupyter-widgets/controls",
            "_model_module_version": "1.5.0",
            "_model_name": "HBoxModel",
            "_view_count": null,
            "_view_module": "@jupyter-widgets/controls",
            "_view_module_version": "1.5.0",
            "_view_name": "HBoxView",
            "box_style": "",
            "children": [
              "IPY_MODEL_4424230e3f2b44c68ed4e6733eb5315e",
              "IPY_MODEL_7189c0a5a3774a28b59eb5889b7fc42b"
            ],
            "layout": "IPY_MODEL_fb928d0899f649058c7bd6c5a18ad7b8"
          }
        },
        "4424230e3f2b44c68ed4e6733eb5315e": {
          "model_module": "@jupyter-widgets/controls",
          "model_name": "FloatProgressModel",
          "state": {
            "_dom_classes": [],
            "_model_module": "@jupyter-widgets/controls",
            "_model_module_version": "1.5.0",
            "_model_name": "FloatProgressModel",
            "_view_count": null,
            "_view_module": "@jupyter-widgets/controls",
            "_view_module_version": "1.5.0",
            "_view_name": "ProgressView",
            "bar_style": "success",
            "description": "100%",
            "description_tooltip": null,
            "layout": "IPY_MODEL_56a20d7f8df0486e962ee353476788a0",
            "max": 145063,
            "min": 0,
            "orientation": "horizontal",
            "style": "IPY_MODEL_d456399c9f9d486d8cb737efee71647d",
            "value": 145063
          }
        },
        "7189c0a5a3774a28b59eb5889b7fc42b": {
          "model_module": "@jupyter-widgets/controls",
          "model_name": "HTMLModel",
          "state": {
            "_dom_classes": [],
            "_model_module": "@jupyter-widgets/controls",
            "_model_module_version": "1.5.0",
            "_model_name": "HTMLModel",
            "_view_count": null,
            "_view_module": "@jupyter-widgets/controls",
            "_view_module_version": "1.5.0",
            "_view_name": "HTMLView",
            "description": "",
            "description_tooltip": null,
            "layout": "IPY_MODEL_892ed02e3648426d8cda3cb50d83487c",
            "placeholder": "​",
            "style": "IPY_MODEL_145a6bf23abe43d8992f533413522f8c",
            "value": " 145063/145063 [00:31&lt;00:00, 4595.43it/s]"
          }
        },
        "fb928d0899f649058c7bd6c5a18ad7b8": {
          "model_module": "@jupyter-widgets/base",
          "model_name": "LayoutModel",
          "state": {
            "_model_module": "@jupyter-widgets/base",
            "_model_module_version": "1.2.0",
            "_model_name": "LayoutModel",
            "_view_count": null,
            "_view_module": "@jupyter-widgets/base",
            "_view_module_version": "1.2.0",
            "_view_name": "LayoutView",
            "align_content": null,
            "align_items": null,
            "align_self": null,
            "border": null,
            "bottom": null,
            "display": null,
            "flex": null,
            "flex_flow": null,
            "grid_area": null,
            "grid_auto_columns": null,
            "grid_auto_flow": null,
            "grid_auto_rows": null,
            "grid_column": null,
            "grid_gap": null,
            "grid_row": null,
            "grid_template_areas": null,
            "grid_template_columns": null,
            "grid_template_rows": null,
            "height": null,
            "justify_content": null,
            "justify_items": null,
            "left": null,
            "margin": null,
            "max_height": null,
            "max_width": null,
            "min_height": null,
            "min_width": null,
            "object_fit": null,
            "object_position": null,
            "order": null,
            "overflow": null,
            "overflow_x": null,
            "overflow_y": null,
            "padding": null,
            "right": null,
            "top": null,
            "visibility": null,
            "width": null
          }
        },
        "56a20d7f8df0486e962ee353476788a0": {
          "model_module": "@jupyter-widgets/base",
          "model_name": "LayoutModel",
          "state": {
            "_model_module": "@jupyter-widgets/base",
            "_model_module_version": "1.2.0",
            "_model_name": "LayoutModel",
            "_view_count": null,
            "_view_module": "@jupyter-widgets/base",
            "_view_module_version": "1.2.0",
            "_view_name": "LayoutView",
            "align_content": null,
            "align_items": null,
            "align_self": null,
            "border": null,
            "bottom": null,
            "display": null,
            "flex": null,
            "flex_flow": null,
            "grid_area": null,
            "grid_auto_columns": null,
            "grid_auto_flow": null,
            "grid_auto_rows": null,
            "grid_column": null,
            "grid_gap": null,
            "grid_row": null,
            "grid_template_areas": null,
            "grid_template_columns": null,
            "grid_template_rows": null,
            "height": null,
            "justify_content": null,
            "justify_items": null,
            "left": null,
            "margin": null,
            "max_height": null,
            "max_width": null,
            "min_height": null,
            "min_width": null,
            "object_fit": null,
            "object_position": null,
            "order": null,
            "overflow": null,
            "overflow_x": null,
            "overflow_y": null,
            "padding": null,
            "right": null,
            "top": null,
            "visibility": null,
            "width": null
          }
        },
        "d456399c9f9d486d8cb737efee71647d": {
          "model_module": "@jupyter-widgets/controls",
          "model_name": "ProgressStyleModel",
          "state": {
            "_model_module": "@jupyter-widgets/controls",
            "_model_module_version": "1.5.0",
            "_model_name": "ProgressStyleModel",
            "_view_count": null,
            "_view_module": "@jupyter-widgets/base",
            "_view_module_version": "1.2.0",
            "_view_name": "StyleView",
            "bar_color": null,
            "description_width": "initial"
          }
        },
        "892ed02e3648426d8cda3cb50d83487c": {
          "model_module": "@jupyter-widgets/base",
          "model_name": "LayoutModel",
          "state": {
            "_model_module": "@jupyter-widgets/base",
            "_model_module_version": "1.2.0",
            "_model_name": "LayoutModel",
            "_view_count": null,
            "_view_module": "@jupyter-widgets/base",
            "_view_module_version": "1.2.0",
            "_view_name": "LayoutView",
            "align_content": null,
            "align_items": null,
            "align_self": null,
            "border": null,
            "bottom": null,
            "display": null,
            "flex": null,
            "flex_flow": null,
            "grid_area": null,
            "grid_auto_columns": null,
            "grid_auto_flow": null,
            "grid_auto_rows": null,
            "grid_column": null,
            "grid_gap": null,
            "grid_row": null,
            "grid_template_areas": null,
            "grid_template_columns": null,
            "grid_template_rows": null,
            "height": null,
            "justify_content": null,
            "justify_items": null,
            "left": null,
            "margin": null,
            "max_height": null,
            "max_width": null,
            "min_height": null,
            "min_width": null,
            "object_fit": null,
            "object_position": null,
            "order": null,
            "overflow": null,
            "overflow_x": null,
            "overflow_y": null,
            "padding": null,
            "right": null,
            "top": null,
            "visibility": null,
            "width": null
          }
        },
        "145a6bf23abe43d8992f533413522f8c": {
          "model_module": "@jupyter-widgets/controls",
          "model_name": "DescriptionStyleModel",
          "state": {
            "_model_module": "@jupyter-widgets/controls",
            "_model_module_version": "1.5.0",
            "_model_name": "DescriptionStyleModel",
            "_view_count": null,
            "_view_module": "@jupyter-widgets/base",
            "_view_module_version": "1.2.0",
            "_view_name": "StyleView",
            "description_width": ""
          }
        },
        "2dabac5b1311402aa23d132da3a0e6b6": {
          "model_module": "@jupyter-widgets/controls",
          "model_name": "HBoxModel",
          "state": {
            "_dom_classes": [],
            "_model_module": "@jupyter-widgets/controls",
            "_model_module_version": "1.5.0",
            "_model_name": "HBoxModel",
            "_view_count": null,
            "_view_module": "@jupyter-widgets/controls",
            "_view_module_version": "1.5.0",
            "_view_name": "HBoxView",
            "box_style": "",
            "children": [
              "IPY_MODEL_b78d707cf4d341d1aed515eb48eaa1f7",
              "IPY_MODEL_44fdf3b82877457583b8f2e35d07a1eb"
            ],
            "layout": "IPY_MODEL_f819b019fe58440c90a136fe78d8e8ec"
          }
        },
        "b78d707cf4d341d1aed515eb48eaa1f7": {
          "model_module": "@jupyter-widgets/controls",
          "model_name": "FloatProgressModel",
          "state": {
            "_dom_classes": [],
            "_model_module": "@jupyter-widgets/controls",
            "_model_module_version": "1.5.0",
            "_model_name": "FloatProgressModel",
            "_view_count": null,
            "_view_module": "@jupyter-widgets/controls",
            "_view_module_version": "1.5.0",
            "_view_name": "ProgressView",
            "bar_style": "success",
            "description": "100%",
            "description_tooltip": null,
            "layout": "IPY_MODEL_1dcaca223ad541eebfa9df38b1017ea0",
            "max": 8993906,
            "min": 0,
            "orientation": "horizontal",
            "style": "IPY_MODEL_826fa61a020c4b87bf58973fe8ecc579",
            "value": 8993906
          }
        },
        "44fdf3b82877457583b8f2e35d07a1eb": {
          "model_module": "@jupyter-widgets/controls",
          "model_name": "HTMLModel",
          "state": {
            "_dom_classes": [],
            "_model_module": "@jupyter-widgets/controls",
            "_model_module_version": "1.5.0",
            "_model_name": "HTMLModel",
            "_view_count": null,
            "_view_module": "@jupyter-widgets/controls",
            "_view_module_version": "1.5.0",
            "_view_name": "HTMLView",
            "description": "",
            "description_tooltip": null,
            "layout": "IPY_MODEL_917c0a9aaf6c4870ad76203174a6e1d7",
            "placeholder": "​",
            "style": "IPY_MODEL_0e6c66525a3b44a29fb70260ad6b1c64",
            "value": " 8993906/8993906 [04:09&lt;00:00, 36113.93it/s]"
          }
        },
        "f819b019fe58440c90a136fe78d8e8ec": {
          "model_module": "@jupyter-widgets/base",
          "model_name": "LayoutModel",
          "state": {
            "_model_module": "@jupyter-widgets/base",
            "_model_module_version": "1.2.0",
            "_model_name": "LayoutModel",
            "_view_count": null,
            "_view_module": "@jupyter-widgets/base",
            "_view_module_version": "1.2.0",
            "_view_name": "LayoutView",
            "align_content": null,
            "align_items": null,
            "align_self": null,
            "border": null,
            "bottom": null,
            "display": null,
            "flex": null,
            "flex_flow": null,
            "grid_area": null,
            "grid_auto_columns": null,
            "grid_auto_flow": null,
            "grid_auto_rows": null,
            "grid_column": null,
            "grid_gap": null,
            "grid_row": null,
            "grid_template_areas": null,
            "grid_template_columns": null,
            "grid_template_rows": null,
            "height": null,
            "justify_content": null,
            "justify_items": null,
            "left": null,
            "margin": null,
            "max_height": null,
            "max_width": null,
            "min_height": null,
            "min_width": null,
            "object_fit": null,
            "object_position": null,
            "order": null,
            "overflow": null,
            "overflow_x": null,
            "overflow_y": null,
            "padding": null,
            "right": null,
            "top": null,
            "visibility": null,
            "width": null
          }
        },
        "1dcaca223ad541eebfa9df38b1017ea0": {
          "model_module": "@jupyter-widgets/base",
          "model_name": "LayoutModel",
          "state": {
            "_model_module": "@jupyter-widgets/base",
            "_model_module_version": "1.2.0",
            "_model_name": "LayoutModel",
            "_view_count": null,
            "_view_module": "@jupyter-widgets/base",
            "_view_module_version": "1.2.0",
            "_view_name": "LayoutView",
            "align_content": null,
            "align_items": null,
            "align_self": null,
            "border": null,
            "bottom": null,
            "display": null,
            "flex": null,
            "flex_flow": null,
            "grid_area": null,
            "grid_auto_columns": null,
            "grid_auto_flow": null,
            "grid_auto_rows": null,
            "grid_column": null,
            "grid_gap": null,
            "grid_row": null,
            "grid_template_areas": null,
            "grid_template_columns": null,
            "grid_template_rows": null,
            "height": null,
            "justify_content": null,
            "justify_items": null,
            "left": null,
            "margin": null,
            "max_height": null,
            "max_width": null,
            "min_height": null,
            "min_width": null,
            "object_fit": null,
            "object_position": null,
            "order": null,
            "overflow": null,
            "overflow_x": null,
            "overflow_y": null,
            "padding": null,
            "right": null,
            "top": null,
            "visibility": null,
            "width": null
          }
        },
        "826fa61a020c4b87bf58973fe8ecc579": {
          "model_module": "@jupyter-widgets/controls",
          "model_name": "ProgressStyleModel",
          "state": {
            "_model_module": "@jupyter-widgets/controls",
            "_model_module_version": "1.5.0",
            "_model_name": "ProgressStyleModel",
            "_view_count": null,
            "_view_module": "@jupyter-widgets/base",
            "_view_module_version": "1.2.0",
            "_view_name": "StyleView",
            "bar_color": null,
            "description_width": "initial"
          }
        },
        "917c0a9aaf6c4870ad76203174a6e1d7": {
          "model_module": "@jupyter-widgets/base",
          "model_name": "LayoutModel",
          "state": {
            "_model_module": "@jupyter-widgets/base",
            "_model_module_version": "1.2.0",
            "_model_name": "LayoutModel",
            "_view_count": null,
            "_view_module": "@jupyter-widgets/base",
            "_view_module_version": "1.2.0",
            "_view_name": "LayoutView",
            "align_content": null,
            "align_items": null,
            "align_self": null,
            "border": null,
            "bottom": null,
            "display": null,
            "flex": null,
            "flex_flow": null,
            "grid_area": null,
            "grid_auto_columns": null,
            "grid_auto_flow": null,
            "grid_auto_rows": null,
            "grid_column": null,
            "grid_gap": null,
            "grid_row": null,
            "grid_template_areas": null,
            "grid_template_columns": null,
            "grid_template_rows": null,
            "height": null,
            "justify_content": null,
            "justify_items": null,
            "left": null,
            "margin": null,
            "max_height": null,
            "max_width": null,
            "min_height": null,
            "min_width": null,
            "object_fit": null,
            "object_position": null,
            "order": null,
            "overflow": null,
            "overflow_x": null,
            "overflow_y": null,
            "padding": null,
            "right": null,
            "top": null,
            "visibility": null,
            "width": null
          }
        },
        "0e6c66525a3b44a29fb70260ad6b1c64": {
          "model_module": "@jupyter-widgets/controls",
          "model_name": "DescriptionStyleModel",
          "state": {
            "_model_module": "@jupyter-widgets/controls",
            "_model_module_version": "1.5.0",
            "_model_name": "DescriptionStyleModel",
            "_view_count": null,
            "_view_module": "@jupyter-widgets/base",
            "_view_module_version": "1.2.0",
            "_view_name": "StyleView",
            "description_width": ""
          }
        }
      }
    }
  },
  "cells": [
    {
      "cell_type": "code",
      "metadata": {
        "id": "TGCp6YM-g2-i"
      },
      "source": [
        "!pip install -q kaggle"
      ],
      "execution_count": null,
      "outputs": []
    },
    {
      "cell_type": "code",
      "metadata": {
        "colab": {
          "base_uri": "https://localhost:8080/"
        },
        "id": "AJrVELokhLQI",
        "outputId": "df4d3f29-2d5e-4029-9989-c9842ac5c659"
      },
      "source": [
        "!pip install kaggle --upgrade"
      ],
      "execution_count": null,
      "outputs": [
        {
          "output_type": "stream",
          "text": [
            "Requirement already up-to-date: kaggle in /usr/local/lib/python3.6/dist-packages (1.5.10)\n",
            "Requirement already satisfied, skipping upgrade: six>=1.10 in /usr/local/lib/python3.6/dist-packages (from kaggle) (1.15.0)\n",
            "Requirement already satisfied, skipping upgrade: tqdm in /usr/local/lib/python3.6/dist-packages (from kaggle) (4.41.1)\n",
            "Requirement already satisfied, skipping upgrade: certifi in /usr/local/lib/python3.6/dist-packages (from kaggle) (2020.12.5)\n",
            "Requirement already satisfied, skipping upgrade: python-slugify in /usr/local/lib/python3.6/dist-packages (from kaggle) (4.0.1)\n",
            "Requirement already satisfied, skipping upgrade: urllib3 in /usr/local/lib/python3.6/dist-packages (from kaggle) (1.24.3)\n",
            "Requirement already satisfied, skipping upgrade: requests in /usr/local/lib/python3.6/dist-packages (from kaggle) (2.23.0)\n",
            "Requirement already satisfied, skipping upgrade: python-dateutil in /usr/local/lib/python3.6/dist-packages (from kaggle) (2.8.1)\n",
            "Requirement already satisfied, skipping upgrade: text-unidecode>=1.3 in /usr/local/lib/python3.6/dist-packages (from python-slugify->kaggle) (1.3)\n",
            "Requirement already satisfied, skipping upgrade: chardet<4,>=3.0.2 in /usr/local/lib/python3.6/dist-packages (from requests->kaggle) (3.0.4)\n",
            "Requirement already satisfied, skipping upgrade: idna<3,>=2.5 in /usr/local/lib/python3.6/dist-packages (from requests->kaggle) (2.10)\n"
          ],
          "name": "stdout"
        }
      ]
    },
    {
      "cell_type": "code",
      "metadata": {
        "colab": {
          "base_uri": "https://localhost:8080/"
        },
        "id": "C_5VVePOhMFH",
        "outputId": "4cb0f622-6567-473a-9fcf-f86efd765360"
      },
      "source": [
        "!gdown --id 1iVn4WhmZoq7lWgB1cPE6F8LzkQbf1dQ8"
      ],
      "execution_count": null,
      "outputs": [
        {
          "output_type": "stream",
          "text": [
            "Downloading...\n",
            "From: https://drive.google.com/uc?id=1iVn4WhmZoq7lWgB1cPE6F8LzkQbf1dQ8\n",
            "To: /content/kaggle.json\n",
            "\r  0% 0.00/68.0 [00:00<?, ?B/s]\r100% 68.0/68.0 [00:00<00:00, 134kB/s]\n"
          ],
          "name": "stdout"
        }
      ]
    },
    {
      "cell_type": "code",
      "metadata": {
        "id": "5x6VFzu2hUzw"
      },
      "source": [
        "!mkdir ~/.kaggle"
      ],
      "execution_count": null,
      "outputs": []
    },
    {
      "cell_type": "code",
      "metadata": {
        "id": "1vqXAamHhXz5"
      },
      "source": [
        "!cp kaggle.json ~/.kaggle/"
      ],
      "execution_count": null,
      "outputs": []
    },
    {
      "cell_type": "code",
      "metadata": {
        "id": "KiMEW0heha83"
      },
      "source": [
        "!chmod 600 ~/.kaggle/kaggle.json"
      ],
      "execution_count": null,
      "outputs": []
    },
    {
      "cell_type": "code",
      "metadata": {
        "colab": {
          "base_uri": "https://localhost:8080/"
        },
        "id": "V6wyhDZxhebv",
        "outputId": "1cdb0db9-e991-472d-f3f0-cc40afa22f58"
      },
      "source": [
        "!kaggle competitions download -c web-traffic-time-series-forecasting"
      ],
      "execution_count": null,
      "outputs": [
        {
          "output_type": "stream",
          "text": [
            "Warning: Looks like you're using an outdated API Version, please consider updating (server 1.5.10 / client 1.5.4)\n",
            "Downloading sample_submission_2.csv.zip to /content\n",
            " 92% 63.0M/68.2M [00:00<00:00, 84.6MB/s]\n",
            "100% 68.2M/68.2M [00:00<00:00, 108MB/s] \n",
            "Downloading sample_submission_1.csv.zip to /content\n",
            " 67% 44.0M/66.0M [00:00<00:00, 87.3MB/s]\n",
            "100% 66.0M/66.0M [00:00<00:00, 134MB/s] \n",
            "Downloading train_2.csv.zip to /content\n",
            " 97% 146M/150M [00:00<00:00, 170MB/s]\n",
            "100% 150M/150M [00:00<00:00, 193MB/s]\n",
            "Downloading key_1.csv.zip to /content\n",
            " 90% 86.0M/96.0M [00:00<00:00, 115MB/s] \n",
            "100% 96.0M/96.0M [00:00<00:00, 178MB/s]\n",
            "Downloading train_1.csv.zip to /content\n",
            " 83% 85.0M/102M [00:00<00:00, 84.5MB/s]\n",
            "100% 102M/102M [00:01<00:00, 101MB/s]  \n",
            "Downloading key_2.csv.zip to /content\n",
            " 93% 94.0M/101M [00:00<00:00, 148MB/s]\n",
            "100% 101M/101M [00:00<00:00, 138MB/s] \n"
          ],
          "name": "stdout"
        }
      ]
    },
    {
      "cell_type": "code",
      "metadata": {
        "colab": {
          "base_uri": "https://localhost:8080/"
        },
        "id": "SDTwdLekhhWf",
        "outputId": "f487a833-2f99-49e0-e3ea-f2805b39f45f"
      },
      "source": [
        "!unzip train_2.csv.zip"
      ],
      "execution_count": null,
      "outputs": [
        {
          "output_type": "stream",
          "text": [
            "Archive:  train_2.csv.zip\n",
            "  inflating: train_2.csv             \n"
          ],
          "name": "stdout"
        }
      ]
    },
    {
      "cell_type": "code",
      "metadata": {
        "colab": {
          "base_uri": "https://localhost:8080/"
        },
        "id": "tl6DJ5CpIUq1",
        "outputId": "36f2a80a-da83-4caa-e9de-636130ec2ae4"
      },
      "source": [
        "!unzip key_2.csv.zip"
      ],
      "execution_count": null,
      "outputs": [
        {
          "output_type": "stream",
          "text": [
            "Archive:  key_2.csv.zip\n",
            "  inflating: key_2.csv               \n"
          ],
          "name": "stdout"
        }
      ]
    },
    {
      "cell_type": "markdown",
      "metadata": {
        "id": "21zLlAZUYCEn"
      },
      "source": [
        "<h3>Data Overview</h3>\r\n",
        "\r\n",
        "The training dataset has a total of 145k time series for wikipedia pages and it conatins daily traffic on those pages from July 2015 to september 2017. We have to predict daily traffic on each of the pages from 13th september 2017 to 13th november 2017. We have given three files in total- train.csv,key.csv,sample_submission.csv.\r\n",
        "\r\n",
        "Train.csv contains about 145k rows each of which represent a different wikipedia page and it has 804 columns, except the first column each column represent a date and it has daily traffic on that particular wikipedia page. First column contains the name of the page which includes the language of the wikipedia page(for example, for english en.wilipedia.org, for spanish es.wikipedia.org,zh,wikipedia.org for chinese),type of access(desktop,all access, agent(spider). For example one name is- 'AKB48_zh.wikipedia .org_all-access_spider’.\r\n",
        "\r\n",
        "Second file is ‘key.csv’ which has number of rows equal to the number of predictions we have to make.There are two columns in this file- ‘page name’ and ‘id’. For each page name that is present in ‘train.csv’ file, we have 62 rows present in key.csv file, these 62 rows corresponds to 62 days of predictions for each page. For each page name there is corresponding id."
      ]
    },
    {
      "cell_type": "code",
      "metadata": {
        "id": "dlV9pRCijDk-"
      },
      "source": [
        "import pandas as pd\r\n",
        "import numpy as np\r\n",
        "from tqdm.notebook import tqdm\r\n",
        "from tqdm.notebook import tnrange\r\n",
        "import datetime\r\n",
        "from scipy.fft import fft\r\n",
        "import re"
      ],
      "execution_count": null,
      "outputs": []
    },
    {
      "cell_type": "code",
      "metadata": {
        "id": "1hiwxmRChw3H"
      },
      "source": [
        "train = pd.read_csv('train_2.csv')\r\n"
      ],
      "execution_count": null,
      "outputs": []
    },
    {
      "cell_type": "code",
      "metadata": {
        "colab": {
          "base_uri": "https://localhost:8080/",
          "height": 321
        },
        "id": "no_l-AeV75-A",
        "outputId": "08274270-402d-4d8e-99bb-a5e56f3f7087"
      },
      "source": [
        "train.head()"
      ],
      "execution_count": null,
      "outputs": [
        {
          "output_type": "execute_result",
          "data": {
            "text/html": [
              "<div>\n",
              "<style scoped>\n",
              "    .dataframe tbody tr th:only-of-type {\n",
              "        vertical-align: middle;\n",
              "    }\n",
              "\n",
              "    .dataframe tbody tr th {\n",
              "        vertical-align: top;\n",
              "    }\n",
              "\n",
              "    .dataframe thead th {\n",
              "        text-align: right;\n",
              "    }\n",
              "</style>\n",
              "<table border=\"1\" class=\"dataframe\">\n",
              "  <thead>\n",
              "    <tr style=\"text-align: right;\">\n",
              "      <th></th>\n",
              "      <th>Page</th>\n",
              "      <th>2015-07-01</th>\n",
              "      <th>2015-07-02</th>\n",
              "      <th>2015-07-03</th>\n",
              "      <th>2015-07-04</th>\n",
              "      <th>2015-07-05</th>\n",
              "      <th>2015-07-06</th>\n",
              "      <th>2015-07-07</th>\n",
              "      <th>2015-07-08</th>\n",
              "      <th>2015-07-09</th>\n",
              "      <th>2015-07-10</th>\n",
              "      <th>2015-07-11</th>\n",
              "      <th>2015-07-12</th>\n",
              "      <th>2015-07-13</th>\n",
              "      <th>2015-07-14</th>\n",
              "      <th>2015-07-15</th>\n",
              "      <th>2015-07-16</th>\n",
              "      <th>2015-07-17</th>\n",
              "      <th>2015-07-18</th>\n",
              "      <th>2015-07-19</th>\n",
              "      <th>2015-07-20</th>\n",
              "      <th>2015-07-21</th>\n",
              "      <th>2015-07-22</th>\n",
              "      <th>2015-07-23</th>\n",
              "      <th>2015-07-24</th>\n",
              "      <th>2015-07-25</th>\n",
              "      <th>2015-07-26</th>\n",
              "      <th>2015-07-27</th>\n",
              "      <th>2015-07-28</th>\n",
              "      <th>2015-07-29</th>\n",
              "      <th>2015-07-30</th>\n",
              "      <th>2015-07-31</th>\n",
              "      <th>2015-08-01</th>\n",
              "      <th>2015-08-02</th>\n",
              "      <th>2015-08-03</th>\n",
              "      <th>2015-08-04</th>\n",
              "      <th>2015-08-05</th>\n",
              "      <th>2015-08-06</th>\n",
              "      <th>2015-08-07</th>\n",
              "      <th>2015-08-08</th>\n",
              "      <th>...</th>\n",
              "      <th>2017-08-02</th>\n",
              "      <th>2017-08-03</th>\n",
              "      <th>2017-08-04</th>\n",
              "      <th>2017-08-05</th>\n",
              "      <th>2017-08-06</th>\n",
              "      <th>2017-08-07</th>\n",
              "      <th>2017-08-08</th>\n",
              "      <th>2017-08-09</th>\n",
              "      <th>2017-08-10</th>\n",
              "      <th>2017-08-11</th>\n",
              "      <th>2017-08-12</th>\n",
              "      <th>2017-08-13</th>\n",
              "      <th>2017-08-14</th>\n",
              "      <th>2017-08-15</th>\n",
              "      <th>2017-08-16</th>\n",
              "      <th>2017-08-17</th>\n",
              "      <th>2017-08-18</th>\n",
              "      <th>2017-08-19</th>\n",
              "      <th>2017-08-20</th>\n",
              "      <th>2017-08-21</th>\n",
              "      <th>2017-08-22</th>\n",
              "      <th>2017-08-23</th>\n",
              "      <th>2017-08-24</th>\n",
              "      <th>2017-08-25</th>\n",
              "      <th>2017-08-26</th>\n",
              "      <th>2017-08-27</th>\n",
              "      <th>2017-08-28</th>\n",
              "      <th>2017-08-29</th>\n",
              "      <th>2017-08-30</th>\n",
              "      <th>2017-08-31</th>\n",
              "      <th>2017-09-01</th>\n",
              "      <th>2017-09-02</th>\n",
              "      <th>2017-09-03</th>\n",
              "      <th>2017-09-04</th>\n",
              "      <th>2017-09-05</th>\n",
              "      <th>2017-09-06</th>\n",
              "      <th>2017-09-07</th>\n",
              "      <th>2017-09-08</th>\n",
              "      <th>2017-09-09</th>\n",
              "      <th>2017-09-10</th>\n",
              "    </tr>\n",
              "  </thead>\n",
              "  <tbody>\n",
              "    <tr>\n",
              "      <th>0</th>\n",
              "      <td>2NE1_zh.wikipedia.org_all-access_spider</td>\n",
              "      <td>18.0</td>\n",
              "      <td>11.0</td>\n",
              "      <td>5.0</td>\n",
              "      <td>13.0</td>\n",
              "      <td>14.0</td>\n",
              "      <td>9.0</td>\n",
              "      <td>9.0</td>\n",
              "      <td>22.0</td>\n",
              "      <td>26.0</td>\n",
              "      <td>24.0</td>\n",
              "      <td>19.0</td>\n",
              "      <td>10.0</td>\n",
              "      <td>14.0</td>\n",
              "      <td>15.0</td>\n",
              "      <td>8.0</td>\n",
              "      <td>16.0</td>\n",
              "      <td>8.0</td>\n",
              "      <td>8.0</td>\n",
              "      <td>16.0</td>\n",
              "      <td>7.0</td>\n",
              "      <td>11.0</td>\n",
              "      <td>10.0</td>\n",
              "      <td>20.0</td>\n",
              "      <td>18.0</td>\n",
              "      <td>15.0</td>\n",
              "      <td>14.0</td>\n",
              "      <td>49.0</td>\n",
              "      <td>10.0</td>\n",
              "      <td>16.0</td>\n",
              "      <td>18.0</td>\n",
              "      <td>8.0</td>\n",
              "      <td>5.0</td>\n",
              "      <td>9.0</td>\n",
              "      <td>7.0</td>\n",
              "      <td>13.0</td>\n",
              "      <td>9.0</td>\n",
              "      <td>7.0</td>\n",
              "      <td>4.0</td>\n",
              "      <td>11.0</td>\n",
              "      <td>...</td>\n",
              "      <td>46.0</td>\n",
              "      <td>24.0</td>\n",
              "      <td>22.0</td>\n",
              "      <td>22.0</td>\n",
              "      <td>11.0</td>\n",
              "      <td>25.0</td>\n",
              "      <td>45.0</td>\n",
              "      <td>39.0</td>\n",
              "      <td>17.0</td>\n",
              "      <td>18.0</td>\n",
              "      <td>13.0</td>\n",
              "      <td>57.0</td>\n",
              "      <td>18.0</td>\n",
              "      <td>14.0</td>\n",
              "      <td>19.0</td>\n",
              "      <td>39.0</td>\n",
              "      <td>22.0</td>\n",
              "      <td>16.0</td>\n",
              "      <td>28.0</td>\n",
              "      <td>21.0</td>\n",
              "      <td>37.0</td>\n",
              "      <td>58.0</td>\n",
              "      <td>25.0</td>\n",
              "      <td>23.0</td>\n",
              "      <td>25.0</td>\n",
              "      <td>47.0</td>\n",
              "      <td>44.0</td>\n",
              "      <td>26.0</td>\n",
              "      <td>24.0</td>\n",
              "      <td>21.0</td>\n",
              "      <td>19.0</td>\n",
              "      <td>33.0</td>\n",
              "      <td>33.0</td>\n",
              "      <td>18.0</td>\n",
              "      <td>16.0</td>\n",
              "      <td>27.0</td>\n",
              "      <td>29.0</td>\n",
              "      <td>23.0</td>\n",
              "      <td>54.0</td>\n",
              "      <td>38.0</td>\n",
              "    </tr>\n",
              "    <tr>\n",
              "      <th>1</th>\n",
              "      <td>2PM_zh.wikipedia.org_all-access_spider</td>\n",
              "      <td>11.0</td>\n",
              "      <td>14.0</td>\n",
              "      <td>15.0</td>\n",
              "      <td>18.0</td>\n",
              "      <td>11.0</td>\n",
              "      <td>13.0</td>\n",
              "      <td>22.0</td>\n",
              "      <td>11.0</td>\n",
              "      <td>10.0</td>\n",
              "      <td>4.0</td>\n",
              "      <td>41.0</td>\n",
              "      <td>65.0</td>\n",
              "      <td>57.0</td>\n",
              "      <td>38.0</td>\n",
              "      <td>20.0</td>\n",
              "      <td>62.0</td>\n",
              "      <td>44.0</td>\n",
              "      <td>15.0</td>\n",
              "      <td>10.0</td>\n",
              "      <td>47.0</td>\n",
              "      <td>24.0</td>\n",
              "      <td>17.0</td>\n",
              "      <td>22.0</td>\n",
              "      <td>9.0</td>\n",
              "      <td>39.0</td>\n",
              "      <td>13.0</td>\n",
              "      <td>11.0</td>\n",
              "      <td>12.0</td>\n",
              "      <td>21.0</td>\n",
              "      <td>19.0</td>\n",
              "      <td>9.0</td>\n",
              "      <td>15.0</td>\n",
              "      <td>33.0</td>\n",
              "      <td>8.0</td>\n",
              "      <td>8.0</td>\n",
              "      <td>7.0</td>\n",
              "      <td>13.0</td>\n",
              "      <td>2.0</td>\n",
              "      <td>23.0</td>\n",
              "      <td>...</td>\n",
              "      <td>39.0</td>\n",
              "      <td>20.0</td>\n",
              "      <td>31.0</td>\n",
              "      <td>19.0</td>\n",
              "      <td>7.0</td>\n",
              "      <td>11.0</td>\n",
              "      <td>20.0</td>\n",
              "      <td>13.0</td>\n",
              "      <td>16.0</td>\n",
              "      <td>16.0</td>\n",
              "      <td>47.0</td>\n",
              "      <td>21.0</td>\n",
              "      <td>20.0</td>\n",
              "      <td>12.0</td>\n",
              "      <td>13.0</td>\n",
              "      <td>20.0</td>\n",
              "      <td>22.0</td>\n",
              "      <td>20.0</td>\n",
              "      <td>12.0</td>\n",
              "      <td>37.0</td>\n",
              "      <td>14.0</td>\n",
              "      <td>34.0</td>\n",
              "      <td>16.0</td>\n",
              "      <td>31.0</td>\n",
              "      <td>34.0</td>\n",
              "      <td>33.0</td>\n",
              "      <td>32.0</td>\n",
              "      <td>29.0</td>\n",
              "      <td>34.0</td>\n",
              "      <td>25.0</td>\n",
              "      <td>32.0</td>\n",
              "      <td>30.0</td>\n",
              "      <td>11.0</td>\n",
              "      <td>19.0</td>\n",
              "      <td>54.0</td>\n",
              "      <td>25.0</td>\n",
              "      <td>26.0</td>\n",
              "      <td>23.0</td>\n",
              "      <td>13.0</td>\n",
              "      <td>81.0</td>\n",
              "    </tr>\n",
              "    <tr>\n",
              "      <th>2</th>\n",
              "      <td>3C_zh.wikipedia.org_all-access_spider</td>\n",
              "      <td>1.0</td>\n",
              "      <td>0.0</td>\n",
              "      <td>1.0</td>\n",
              "      <td>1.0</td>\n",
              "      <td>0.0</td>\n",
              "      <td>4.0</td>\n",
              "      <td>0.0</td>\n",
              "      <td>3.0</td>\n",
              "      <td>4.0</td>\n",
              "      <td>4.0</td>\n",
              "      <td>1.0</td>\n",
              "      <td>1.0</td>\n",
              "      <td>1.0</td>\n",
              "      <td>6.0</td>\n",
              "      <td>8.0</td>\n",
              "      <td>6.0</td>\n",
              "      <td>4.0</td>\n",
              "      <td>5.0</td>\n",
              "      <td>1.0</td>\n",
              "      <td>2.0</td>\n",
              "      <td>3.0</td>\n",
              "      <td>8.0</td>\n",
              "      <td>8.0</td>\n",
              "      <td>6.0</td>\n",
              "      <td>6.0</td>\n",
              "      <td>2.0</td>\n",
              "      <td>2.0</td>\n",
              "      <td>3.0</td>\n",
              "      <td>2.0</td>\n",
              "      <td>4.0</td>\n",
              "      <td>3.0</td>\n",
              "      <td>3.0</td>\n",
              "      <td>5.0</td>\n",
              "      <td>3.0</td>\n",
              "      <td>5.0</td>\n",
              "      <td>4.0</td>\n",
              "      <td>2.0</td>\n",
              "      <td>5.0</td>\n",
              "      <td>1.0</td>\n",
              "      <td>...</td>\n",
              "      <td>22.0</td>\n",
              "      <td>8.0</td>\n",
              "      <td>4.0</td>\n",
              "      <td>3.0</td>\n",
              "      <td>1.0</td>\n",
              "      <td>3.0</td>\n",
              "      <td>7.0</td>\n",
              "      <td>3.0</td>\n",
              "      <td>1.0</td>\n",
              "      <td>9.0</td>\n",
              "      <td>4.0</td>\n",
              "      <td>2.0</td>\n",
              "      <td>6.0</td>\n",
              "      <td>3.0</td>\n",
              "      <td>3.0</td>\n",
              "      <td>3.0</td>\n",
              "      <td>8.0</td>\n",
              "      <td>2.0</td>\n",
              "      <td>4.0</td>\n",
              "      <td>3.0</td>\n",
              "      <td>6.0</td>\n",
              "      <td>23.0</td>\n",
              "      <td>11.0</td>\n",
              "      <td>8.0</td>\n",
              "      <td>6.0</td>\n",
              "      <td>13.0</td>\n",
              "      <td>12.0</td>\n",
              "      <td>8.0</td>\n",
              "      <td>12.0</td>\n",
              "      <td>9.0</td>\n",
              "      <td>6.0</td>\n",
              "      <td>6.0</td>\n",
              "      <td>7.0</td>\n",
              "      <td>2.0</td>\n",
              "      <td>4.0</td>\n",
              "      <td>7.0</td>\n",
              "      <td>3.0</td>\n",
              "      <td>4.0</td>\n",
              "      <td>7.0</td>\n",
              "      <td>6.0</td>\n",
              "    </tr>\n",
              "    <tr>\n",
              "      <th>3</th>\n",
              "      <td>4minute_zh.wikipedia.org_all-access_spider</td>\n",
              "      <td>35.0</td>\n",
              "      <td>13.0</td>\n",
              "      <td>10.0</td>\n",
              "      <td>94.0</td>\n",
              "      <td>4.0</td>\n",
              "      <td>26.0</td>\n",
              "      <td>14.0</td>\n",
              "      <td>9.0</td>\n",
              "      <td>11.0</td>\n",
              "      <td>16.0</td>\n",
              "      <td>16.0</td>\n",
              "      <td>11.0</td>\n",
              "      <td>23.0</td>\n",
              "      <td>145.0</td>\n",
              "      <td>14.0</td>\n",
              "      <td>17.0</td>\n",
              "      <td>85.0</td>\n",
              "      <td>4.0</td>\n",
              "      <td>30.0</td>\n",
              "      <td>22.0</td>\n",
              "      <td>9.0</td>\n",
              "      <td>10.0</td>\n",
              "      <td>11.0</td>\n",
              "      <td>7.0</td>\n",
              "      <td>7.0</td>\n",
              "      <td>11.0</td>\n",
              "      <td>9.0</td>\n",
              "      <td>11.0</td>\n",
              "      <td>44.0</td>\n",
              "      <td>8.0</td>\n",
              "      <td>14.0</td>\n",
              "      <td>19.0</td>\n",
              "      <td>10.0</td>\n",
              "      <td>17.0</td>\n",
              "      <td>17.0</td>\n",
              "      <td>10.0</td>\n",
              "      <td>7.0</td>\n",
              "      <td>10.0</td>\n",
              "      <td>1.0</td>\n",
              "      <td>...</td>\n",
              "      <td>37.0</td>\n",
              "      <td>14.0</td>\n",
              "      <td>12.0</td>\n",
              "      <td>13.0</td>\n",
              "      <td>11.0</td>\n",
              "      <td>10.0</td>\n",
              "      <td>14.0</td>\n",
              "      <td>15.0</td>\n",
              "      <td>15.0</td>\n",
              "      <td>11.0</td>\n",
              "      <td>19.0</td>\n",
              "      <td>9.0</td>\n",
              "      <td>19.0</td>\n",
              "      <td>8.0</td>\n",
              "      <td>17.0</td>\n",
              "      <td>11.0</td>\n",
              "      <td>18.0</td>\n",
              "      <td>20.0</td>\n",
              "      <td>11.0</td>\n",
              "      <td>11.0</td>\n",
              "      <td>21.0</td>\n",
              "      <td>42.0</td>\n",
              "      <td>23.0</td>\n",
              "      <td>17.0</td>\n",
              "      <td>11.0</td>\n",
              "      <td>21.0</td>\n",
              "      <td>20.0</td>\n",
              "      <td>20.0</td>\n",
              "      <td>110.0</td>\n",
              "      <td>15.0</td>\n",
              "      <td>7.0</td>\n",
              "      <td>19.0</td>\n",
              "      <td>19.0</td>\n",
              "      <td>9.0</td>\n",
              "      <td>6.0</td>\n",
              "      <td>16.0</td>\n",
              "      <td>19.0</td>\n",
              "      <td>30.0</td>\n",
              "      <td>38.0</td>\n",
              "      <td>4.0</td>\n",
              "    </tr>\n",
              "    <tr>\n",
              "      <th>4</th>\n",
              "      <td>52_Hz_I_Love_You_zh.wikipedia.org_all-access_s...</td>\n",
              "      <td>NaN</td>\n",
              "      <td>NaN</td>\n",
              "      <td>NaN</td>\n",
              "      <td>NaN</td>\n",
              "      <td>NaN</td>\n",
              "      <td>NaN</td>\n",
              "      <td>NaN</td>\n",
              "      <td>NaN</td>\n",
              "      <td>NaN</td>\n",
              "      <td>NaN</td>\n",
              "      <td>NaN</td>\n",
              "      <td>NaN</td>\n",
              "      <td>NaN</td>\n",
              "      <td>NaN</td>\n",
              "      <td>NaN</td>\n",
              "      <td>NaN</td>\n",
              "      <td>NaN</td>\n",
              "      <td>NaN</td>\n",
              "      <td>NaN</td>\n",
              "      <td>NaN</td>\n",
              "      <td>NaN</td>\n",
              "      <td>NaN</td>\n",
              "      <td>NaN</td>\n",
              "      <td>NaN</td>\n",
              "      <td>NaN</td>\n",
              "      <td>NaN</td>\n",
              "      <td>NaN</td>\n",
              "      <td>NaN</td>\n",
              "      <td>NaN</td>\n",
              "      <td>NaN</td>\n",
              "      <td>NaN</td>\n",
              "      <td>NaN</td>\n",
              "      <td>NaN</td>\n",
              "      <td>NaN</td>\n",
              "      <td>NaN</td>\n",
              "      <td>NaN</td>\n",
              "      <td>NaN</td>\n",
              "      <td>NaN</td>\n",
              "      <td>NaN</td>\n",
              "      <td>...</td>\n",
              "      <td>40.0</td>\n",
              "      <td>39.0</td>\n",
              "      <td>66.0</td>\n",
              "      <td>114.0</td>\n",
              "      <td>19.0</td>\n",
              "      <td>29.0</td>\n",
              "      <td>12.0</td>\n",
              "      <td>11.0</td>\n",
              "      <td>14.0</td>\n",
              "      <td>14.0</td>\n",
              "      <td>63.0</td>\n",
              "      <td>12.0</td>\n",
              "      <td>22.0</td>\n",
              "      <td>14.0</td>\n",
              "      <td>20.0</td>\n",
              "      <td>11.0</td>\n",
              "      <td>23.0</td>\n",
              "      <td>66.0</td>\n",
              "      <td>19.0</td>\n",
              "      <td>23.0</td>\n",
              "      <td>23.0</td>\n",
              "      <td>41.0</td>\n",
              "      <td>25.0</td>\n",
              "      <td>22.0</td>\n",
              "      <td>20.0</td>\n",
              "      <td>24.0</td>\n",
              "      <td>29.0</td>\n",
              "      <td>20.0</td>\n",
              "      <td>17.0</td>\n",
              "      <td>24.0</td>\n",
              "      <td>16.0</td>\n",
              "      <td>16.0</td>\n",
              "      <td>19.0</td>\n",
              "      <td>9.0</td>\n",
              "      <td>20.0</td>\n",
              "      <td>23.0</td>\n",
              "      <td>28.0</td>\n",
              "      <td>14.0</td>\n",
              "      <td>8.0</td>\n",
              "      <td>7.0</td>\n",
              "    </tr>\n",
              "  </tbody>\n",
              "</table>\n",
              "<p>5 rows × 804 columns</p>\n",
              "</div>"
            ],
            "text/plain": [
              "                                                Page  ...  2017-09-10\n",
              "0            2NE1_zh.wikipedia.org_all-access_spider  ...        38.0\n",
              "1             2PM_zh.wikipedia.org_all-access_spider  ...        81.0\n",
              "2              3C_zh.wikipedia.org_all-access_spider  ...         6.0\n",
              "3         4minute_zh.wikipedia.org_all-access_spider  ...         4.0\n",
              "4  52_Hz_I_Love_You_zh.wikipedia.org_all-access_s...  ...         7.0\n",
              "\n",
              "[5 rows x 804 columns]"
            ]
          },
          "metadata": {
            "tags": []
          },
          "execution_count": 12
        }
      ]
    },
    {
      "cell_type": "code",
      "metadata": {
        "id": "dhlb93ixIgkg"
      },
      "source": [
        "key = pd.read_csv('key_2.csv')"
      ],
      "execution_count": null,
      "outputs": []
    },
    {
      "cell_type": "markdown",
      "metadata": {
        "id": "EuFhl3UP5L3U"
      },
      "source": [
        "<h2>Data Preprocessing</h2>\r\n",
        "\r\n",
        "We used linear interpolation for filling missing values that were not missing for many consecutive days. Data which is missing for many consecutive days, maybe for months.Now, we can say that wherever there is a missing value, the page was not even created back then. So, we are filling those missing values with 0."
      ]
    },
    {
      "cell_type": "code",
      "metadata": {
        "id": "AgA19D3XvNB3"
      },
      "source": [
        "train=train.interpolate(method ='linear',limit=1)\r\n",
        "train = train.fillna(0)"
      ],
      "execution_count": null,
      "outputs": []
    },
    {
      "cell_type": "code",
      "metadata": {
        "colab": {
          "base_uri": "https://localhost:8080/",
          "referenced_widgets": [
            "e12f9922ec764ac7a19813794d3d1275"
          ]
        },
        "id": "wUHVGxncdLJl",
        "outputId": "0f5ab43e-0341-46ab-ef3a-2bcff119ea4c"
      },
      "source": [
        "# saw during data analysis that usually peaks are present at regular intervals and there are very less number of peaks that are very large and occur only once or twice\r\n",
        "# These peaks will not be useful for prediction, so replacing all these peaks with the median of the data\r\n",
        "col=train.columns\r\n",
        "for i in tnrange(train.shape[0]):\r\n",
        "    k=train.iloc[i].values[1:]\r\n",
        "    threshold=np.percentile(k,99.8)\r\n",
        "    med=np.median(k)\r\n",
        "    for j in col[1:]:\r\n",
        "        if(train.at[i,j]>threshold):\r\n",
        "            train.at[i,j]=med"
      ],
      "execution_count": null,
      "outputs": [
        {
          "output_type": "display_data",
          "data": {
            "application/vnd.jupyter.widget-view+json": {
              "model_id": "e12f9922ec764ac7a19813794d3d1275",
              "version_major": 2,
              "version_minor": 0
            },
            "text/plain": [
              "HBox(children=(FloatProgress(value=0.0, max=145063.0), HTML(value='')))"
            ]
          },
          "metadata": {
            "tags": []
          }
        }
      ]
    },
    {
      "cell_type": "markdown",
      "metadata": {
        "id": "Lemw5s1Am9lT"
      },
      "source": [
        "<h2>Baseline Model</h2>\r\n",
        "\r\n",
        "Will use median of data to make predictions, for each page we have taken median for each weekday and used it to make predictions for the next 62 days accordingly.\r\n"
      ]
    },
    {
      "cell_type": "code",
      "metadata": {
        "id": "AKlrRVH0lPpQ"
      },
      "source": [
        "week_day=[[[] for j in range(7)] for i in range(train.shape[0])]\r\n",
        "for i in tqdm(train.columns[1:]):\r\n",
        "    index=datetime.datetime.strptime(' '.join(i.split('-')), '%Y %m %d').weekday()\r\n",
        "    for k in range(train.shape[0]):\r\n",
        "        week_day[k][index].append(train.at[k,i])\r\n",
        "        \r\n",
        "for i in tnrange(len(week_day)):\r\n",
        "    for j in range(7):\r\n",
        "        week_day[i][j]=np.median(week_day[i][j])  "
      ],
      "execution_count": null,
      "outputs": []
    },
    {
      "cell_type": "code",
      "metadata": {
        "colab": {
          "base_uri": "https://localhost:8080/"
        },
        "id": "bg1gBYmwow1u",
        "outputId": "955fdf8e-5bc6-43c6-e06c-13440f2bcecc"
      },
      "source": [
        "!unzip sample_submission_2.csv.zip"
      ],
      "execution_count": null,
      "outputs": [
        {
          "output_type": "stream",
          "text": [
            "Archive:  sample_submission_2.csv.zip\n",
            "  inflating: sample_submission_2.csv  \n"
          ],
          "name": "stdout"
        }
      ]
    },
    {
      "cell_type": "code",
      "metadata": {
        "id": "jH-d_Y1IoRMX"
      },
      "source": [
        "submit_file = pd.read_csv('sample_submission_2.csv')"
      ],
      "execution_count": null,
      "outputs": []
    },
    {
      "cell_type": "code",
      "metadata": {
        "id": "g_xNmT0IrcoZ"
      },
      "source": [
        "Page_name = train['Page'].values"
      ],
      "execution_count": null,
      "outputs": []
    },
    {
      "cell_type": "code",
      "metadata": {
        "id": "2cGSf6CNpKO5"
      },
      "source": [
        "# Below code takes name of each page from train data which contains 145063*62 rows i.e. 62 names for each page\r\n",
        "ids=key['Page'].values\r\n",
        "visits={} \r\n",
        "# In this we will store our predictions, keys are the name of the page and values are the predictions\r\n",
        "for i in tnrange(train.shape[0]):\r\n",
        "    date = datetime.date(2017,9,13)\r\n",
        "    for j in range(62):\r\n",
        "        k=date.weekday()\r\n",
        "        name =Page_name[i] + '_' + str(date)\r\n",
        "        visits[name]=week_day[i][k]\r\n",
        "        date += datetime.timedelta(days=1) #https://stackoverflow.com/questions/3240458/how-to-increment-a-datetime-by-one-day\r\n",
        "# Below code maps each page name to the corresponding id for Kaggle submission\r\n",
        "for i in tnrange(len(ids)):\r\n",
        "    sub.at[i,'Visits']=visits[ids[i]]        "
      ],
      "execution_count": null,
      "outputs": []
    },
    {
      "cell_type": "code",
      "metadata": {
        "id": "NaiqlL3J2s3N"
      },
      "source": [
        "submit_file.to_csv('median_submission.csv',index=False)"
      ],
      "execution_count": null,
      "outputs": []
    },
    {
      "cell_type": "code",
      "metadata": {
        "id": "n50NsahbI_-0"
      },
      "source": [
        "!kaggle competitions submit -c web-traffic-time-series-forecasting -f median_submission.csv -m \"Prediction done using median sub1\""
      ],
      "execution_count": null,
      "outputs": []
    },
    {
      "cell_type": "markdown",
      "metadata": {
        "id": "v96ucWusPsHc"
      },
      "source": [
        "Submission in Kaggle"
      ]
    },
    {
      "cell_type": "markdown",
      "metadata": {
        "id": "2Qa8tmWRPeL_"
      },
      "source": [
        "![image.png](data:image/png;base64,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)"
      ]
    },
    {
      "cell_type": "markdown",
      "metadata": {
        "id": "WfPrfX8g7Sqn"
      },
      "source": [
        "For this submission, we are currently at 310th position out of 1095 total teams"
      ]
    },
    {
      "cell_type": "markdown",
      "metadata": {
        "id": "P2YUDCJmhxdj"
      },
      "source": [
        "<h2>Feature Engineering</h2>"
      ]
    },
    {
      "cell_type": "code",
      "metadata": {
        "colab": {
          "base_uri": "https://localhost:8080/",
          "referenced_widgets": [
            "5c17ab2fab9547558a57610135ae943d"
          ]
        },
        "id": "Gpi-prHhwRWs",
        "outputId": "8750b8a4-f167-48e9-e3e2-39a5e5aac783"
      },
      "source": [
        "week_day=[] # This list will contain 145063*15 values, each corresponding to the \r\n",
        "             # week day of every data point that we are creating\r\n",
        "\r\n",
        "# All the list which contain 'temp' in their names are just temporary and will be used to generate main features.\r\n",
        "temp_week=[]\r\n",
        "\r\n",
        "l=len(train.columns)\r\n",
        "for i in (train.columns[l-15:l]): # This loop will generate day of the week feature for 15 continuous days for one page.\r\n",
        "    d=i.split('-')\r\n",
        "    date=datetime.date(int(d[0]),int(d[1]),int(d[2]))\r\n",
        "    temp_week.append(date.weekday())\r\n",
        "\r\n",
        "# Now, these three feature will contain the total traffic on each page for last 3 bins of 3 days. \r\n",
        "threedays_1=[] # It will contain the total traffic for d-3 to d days\r\n",
        "threedays_2=[] # It will contain the total traffic for d-6 to d-3 days\r\n",
        "threedays_3=[] # It will contain the total traffic for d-9 to d-6 days\r\n",
        "\r\n",
        "#As we saw during data analysis part that there is a high corelation for 7 days.\r\n",
        "# So, we are creating a feature for that as well.\r\n",
        "weekly_trend=[] # It will contain traffic on d-7 days\r\n",
        "\r\n",
        "target_value=[]\r\n",
        "\r\n",
        "# Below is the code that will generate all the features that we discussed above.\r\n",
        "for j in tqdm(range(train.shape[0])):\r\n",
        "    k=train.iloc[j].values\r\n",
        "\r\n",
        "    weekly_temp=[]\r\n",
        "    for i in range(788,803):\r\n",
        "        weekly_temp.append(k[i-7])\r\n",
        "    weekly_trend.extend(weekly_temp)  \r\n",
        "  \r\n",
        "    temp_list=[]\r\n",
        "    temp_list1=[]\r\n",
        "    temp_list2=[]\r\n",
        "    for i in range(788,803):\r\n",
        "        temp_list.append(k[i-1]+k[i-2]+k[i-3])\r\n",
        "        temp_list1.append(k[i-4]+k[i-5]+k[i-6])\r\n",
        "        temp_list2.append(k[i-7]+k[i-8]+k[i-9])\r\n",
        "        target_value.append(k[i])\r\n",
        "    threedays_1.extend(temp_list) \r\n",
        "    threedays_2.extend(temp_list1)\r\n",
        "    threedays_3.extend(temp_list2) \r\n",
        "    week_day.extend(temp_week)"
      ],
      "execution_count": null,
      "outputs": [
        {
          "output_type": "display_data",
          "data": {
            "application/vnd.jupyter.widget-view+json": {
              "model_id": "5c17ab2fab9547558a57610135ae943d",
              "version_major": 2,
              "version_minor": 0
            },
            "text/plain": [
              "HBox(children=(FloatProgress(value=0.0, max=145063.0), HTML(value='')))"
            ]
          },
          "metadata": {
            "tags": []
          }
        },
        {
          "output_type": "stream",
          "text": [
            "\n"
          ],
          "name": "stdout"
        }
      ]
    },
    {
      "cell_type": "code",
      "metadata": {
        "colab": {
          "base_uri": "https://localhost:8080/",
          "height": 66,
          "referenced_widgets": [
            "0d9c10ce71f94fccbde51b9f37fe9594"
          ]
        },
        "id": "4Hq01fgbybhh",
        "outputId": "b8b55ba7-cb1b-44fc-e075-4c3c5d25dc4a"
      },
      "source": [
        "# As we saw during analysis that there were some unneccessary peaks at the start,so after removing some initial values, we will take top 3 peaks and use them as features\r\n",
        "# These 6 list will contain the X and Y co-ordinates for top 3 peaks\r\n",
        "fourier_feat1_x=[]\r\n",
        "fourier_feat2_x=[]\r\n",
        "fourier_feat3_x=[]\r\n",
        "fourier_feat1_y=[]\r\n",
        "fourier_feat2_y=[]\r\n",
        "fourier_feat3_y=[]\r\n",
        "for t in tnrange(len(Page_name)):\r\n",
        "    data=train.iloc[t][1:].values # This is the data that we are going to transform into the frequency domain\r\n",
        "    data=data-np.mean(data) # At frequency bin 0, we get the mean value of our signal. In order to remove that we are subtracting mean of the data from every datapoint\r\n",
        "    x=fft(data) #Fourier Transformation\r\n",
        "    freq=np.linspace(0,803//2,803//2) # According to shannon, we can only analyse the frequency of half of the sample, this function creates evenly spaced numbers which will be used as frequency in plot\r\n",
        "    y=2/803*np.abs(x[0:803//2]) # Taking absolute values of half data points \r\n",
        "\r\n",
        "  # Below is the code to create features from the frequency domain\r\n",
        "    temp=y.copy()\r\n",
        "    temp1=temp[15:]\r\n",
        "    temp1=np.sort(temp1)\r\n",
        "    k=temp1[len(temp1)-3:]\r\n",
        "    fourier_temp1_x=[]\r\n",
        "    fourier_temp2_x=[]\r\n",
        "    fourier_temp3_x=[]\r\n",
        "    fourier_temp1_y=[]\r\n",
        "    fourier_temp2_y=[]\r\n",
        "    fourier_temp3_y=[]\r\n",
        "    for i in range(len(k)):\r\n",
        "        temp_fourier_x=[]\r\n",
        "        temp_fourier_y=[]\r\n",
        "        temp_fourier_x.append(freq[list(y).index(k[i])])\r\n",
        "        temp_fourier_y.append(list(y).index(k[i]))\r\n",
        "        if(i==0):\r\n",
        "            for j in range(15):\r\n",
        "                fourier_temp1_x.extend(temp_fourier_x)\r\n",
        "                fourier_temp1_y.extend(temp_fourier_y)\r\n",
        "        if(i==1):\r\n",
        "            for j in range(15):\r\n",
        "                fourier_temp2_x.extend(temp_fourier_x)\r\n",
        "                fourier_temp2_y.extend(temp_fourier_y)\r\n",
        "        if(i==2):\r\n",
        "            for j in range(15):\r\n",
        "                fourier_temp3_x.extend(temp_fourier_x)\r\n",
        "                fourier_temp3_y.extend(temp_fourier_y)\r\n",
        "    fourier_feat1_x.extend(fourier_temp1_x) \r\n",
        "    fourier_feat2_x.extend(fourier_temp2_x) \r\n",
        "    fourier_feat3_x.extend(fourier_temp3_x)    \r\n",
        "    fourier_feat1_y.extend(fourier_temp1_y) \r\n",
        "    fourier_feat2_y.extend(fourier_temp2_y) \r\n",
        "    fourier_feat3_y.extend(fourier_temp3_y)"
      ],
      "execution_count": null,
      "outputs": [
        {
          "output_type": "display_data",
          "data": {
            "application/vnd.jupyter.widget-view+json": {
              "model_id": "0d9c10ce71f94fccbde51b9f37fe9594",
              "version_major": 2,
              "version_minor": 0
            },
            "text/plain": [
              "HBox(children=(FloatProgress(value=0.0, max=145063.0), HTML(value='')))"
            ]
          },
          "metadata": {
            "tags": []
          }
        },
        {
          "output_type": "stream",
          "text": [
            "\n"
          ],
          "name": "stdout"
        }
      ]
    },
    {
      "cell_type": "code",
      "metadata": {
        "colab": {
          "base_uri": "https://localhost:8080/",
          "height": 66,
          "referenced_widgets": [
            "6dd542ef21b04733a1ea59e31a2c3536"
          ]
        },
        "id": "sxojjWvN_qSI",
        "outputId": "c860274e-2bcb-4df2-dba0-413b0efba565"
      },
      "source": [
        "# As we know that language do we have an impact on traffic, so using language as a feature can be useful\r\n",
        "\r\n",
        "def get_language(page): #this fuction extract the language from the page details\r\n",
        "    res = re.search('[a-z][a-z].wikipedia.org',page)\r\n",
        "    if res:\r\n",
        "        return res[0][0:2]\r\n",
        "    return 'na'\r\n",
        "\r\n",
        "train['lang'] = train.Page.map(get_language) #adding the new column as language\r\n",
        "\r\n",
        "# creating features for last 15 days so every page will have 15 rows in data. So, appending the laguage of a page 15 times to the list\r\n",
        "lang_feature =[]\r\n",
        "for j in tqdm(range(train.shape[0])):\r\n",
        "  k=train.iloc[j].values\r\n",
        "\r\n",
        "  lang_feat =[]\r\n",
        "  for i in range(15):\r\n",
        "    lang_feat.append(k[-1])\r\n",
        "  lang_feature.extend(lang_feat)"
      ],
      "execution_count": null,
      "outputs": [
        {
          "output_type": "display_data",
          "data": {
            "application/vnd.jupyter.widget-view+json": {
              "model_id": "6dd542ef21b04733a1ea59e31a2c3536",
              "version_major": 2,
              "version_minor": 0
            },
            "text/plain": [
              "HBox(children=(FloatProgress(value=0.0, max=145063.0), HTML(value='')))"
            ]
          },
          "metadata": {
            "tags": []
          }
        },
        {
          "output_type": "stream",
          "text": [
            "\n"
          ],
          "name": "stdout"
        }
      ]
    },
    {
      "cell_type": "code",
      "metadata": {
        "id": "cAuqrv_x8GLj"
      },
      "source": [
        "# Extract the access and agent details from the page details and saving them in the new column\r\n",
        "page_details = pd.DataFrame([i.split(\"_\")[-2:] for i in train[\"Page\"]])\r\n",
        "page_details.columns = [\"access\", \"agent\"]\r\n",
        "train = train.merge(page_details, how=\"inner\", left_index=True, right_index=True)"
      ],
      "execution_count": null,
      "outputs": []
    },
    {
      "cell_type": "code",
      "metadata": {
        "colab": {
          "base_uri": "https://localhost:8080/",
          "height": 66,
          "referenced_widgets": [
            "664ff0c9f69346b4a81c6063251c8176"
          ]
        },
        "id": "appBpqUXGRFP",
        "outputId": "ee66ae3c-7719-4d7b-92fc-6bf474246935"
      },
      "source": [
        "# We saw that type of access also has an impact on traffic, so we are creating a feature for that as well. \r\n",
        "access_feature =[]\r\n",
        "for j in tqdm(range(train.shape[0])):\r\n",
        "  k=train.iloc[j].values\r\n",
        "\r\n",
        "  access_feat =[]\r\n",
        "  for i in range(15):\r\n",
        "    access_feat.append(k[-2])\r\n",
        "  access_feature.extend(access_feat)"
      ],
      "execution_count": null,
      "outputs": [
        {
          "output_type": "display_data",
          "data": {
            "application/vnd.jupyter.widget-view+json": {
              "model_id": "664ff0c9f69346b4a81c6063251c8176",
              "version_major": 2,
              "version_minor": 0
            },
            "text/plain": [
              "HBox(children=(FloatProgress(value=0.0, max=145063.0), HTML(value='')))"
            ]
          },
          "metadata": {
            "tags": []
          }
        },
        {
          "output_type": "stream",
          "text": [
            "\n"
          ],
          "name": "stdout"
        }
      ]
    },
    {
      "cell_type": "code",
      "metadata": {
        "colab": {
          "base_uri": "https://localhost:8080/",
          "height": 66,
          "referenced_widgets": [
            "0486efb571244c48bd6d22a1932e851f"
          ]
        },
        "id": "JdIJF-U3G37n",
        "outputId": "cc01ae6b-7cef-4afa-e0e5-36afa2f690a2"
      },
      "source": [
        "# We saw that type of agent also has an impact on traffic, so we are creating a feature for that as well. \r\n",
        "agent_feature =[]\r\n",
        "for j in tqdm(range(train.shape[0])):\r\n",
        "  k=train.iloc[j].values\r\n",
        "\r\n",
        "  agent_feat =[]\r\n",
        "  for i in range(15):\r\n",
        "    agent_feat.append(k[-1])\r\n",
        "  agent_feature.extend(access_feat)"
      ],
      "execution_count": null,
      "outputs": [
        {
          "output_type": "display_data",
          "data": {
            "application/vnd.jupyter.widget-view+json": {
              "model_id": "0486efb571244c48bd6d22a1932e851f",
              "version_major": 2,
              "version_minor": 0
            },
            "text/plain": [
              "HBox(children=(FloatProgress(value=0.0, max=145063.0), HTML(value='')))"
            ]
          },
          "metadata": {
            "tags": []
          }
        },
        {
          "output_type": "stream",
          "text": [
            "\n"
          ],
          "name": "stdout"
        }
      ]
    },
    {
      "cell_type": "markdown",
      "metadata": {
        "id": "3g0sZH7EAbR1"
      },
      "source": [
        "<h3>Summary and key take aways from our work till now.</h3>\r\n",
        "\r\n",
        "First, we loaded the required libraries and files.\r\n",
        "Handling Missing values :\r\n",
        "\r\n",
        "We used linear interpolation for filling missing values that were not missing for many consecutive days. For filling consecutive missing values, we used the data from 180 days later."
      ]
    },
    {
      "cell_type": "markdown",
      "metadata": {
        "id": "PPH48bEGAjiQ"
      },
      "source": [
        "Data Analysis:\r\n",
        "\r\n",
        "1. Saw that most of the traffic was on English laguage pages.\r\n",
        "3. There was very less traffic by bots as compared to actual human.\r\n",
        "4. May has most number of visitors.\r\n",
        "5. Weekdays and weekend doesn't actually make much difference.\r\n",
        "6. Last three months of the year has more number of visitors on an average than other months of the year.\r\n",
        "8. On average, English language has the most number of visitors."
      ]
    },
    {
      "cell_type": "markdown",
      "metadata": {
        "id": "IF_Ma96QJQ2N"
      },
      "source": [
        "<h2>Feature Engineering :</h2>\r\n",
        "\r\n",
        "Used rolling window technique to generate features, from every time series we used 15 days of data. These are the features that we generated-\r\n",
        "Day of the week\r\n",
        "1. Number of visitors on d-7 days\r\n",
        "2. Total visitors on last 3 buckets of 3 days.\r\n",
        "3. Language of the page\r\n",
        "4. Client of the page (All access, mobile,desktop)\r\n",
        "5. Spider or actual human traffic\r\n",
        "6. Top three peaks from fourier transformed data."
      ]
    },
    {
      "cell_type": "markdown",
      "metadata": {
        "id": "ZCoN0Ci6Jty9"
      },
      "source": [
        "<h3>Making data model ready</h3>"
      ]
    },
    {
      "cell_type": "code",
      "metadata": {
        "id": "BUemBtCOeqGi"
      },
      "source": [
        "# Now, will start to build model based on the features that we have created\r\n",
        "# Firstly will convert all the categorical features into one hot encoded features\r\n",
        "from sklearn.preprocessing import OneHotEncoder,normalize\r\n",
        "enc_access_feat = OneHotEncoder(sparse=False)\r\n",
        "access_feat_ohe=enc_access_feat.fit_transform(np.array(access_feature).reshape(-1,1))\r\n",
        "\r\n",
        "enc_week_day = OneHotEncoder(sparse=False)\r\n",
        "week_day_ohe=enc_week_day.fit_transform(np.array(week_day).reshape(-1,1))\r\n",
        "\r\n",
        "enc_lang_feat = OneHotEncoder(sparse=False)\r\n",
        "lang_feat_ohe=enc_lang_feat.fit_transform(np.array(lang_feature).reshape(-1,1))\r\n",
        "\r\n",
        "enc_spider_feat = OneHotEncoder(sparse=False)\r\n",
        "spider_feat_ohe=enc_spider_feat.fit_transform(np.array(agent_feature).reshape(-1,1))\r\n",
        "\r\n"
      ],
      "execution_count": null,
      "outputs": []
    },
    {
      "cell_type": "code",
      "metadata": {
        "id": "RgR6S_MYBJqC"
      },
      "source": [
        "# Will start with linear regression, so now have to normalise the numerical features\r\n",
        "weekly_trend=normalize(np.array(weekly_trend).reshape(-1,1),axis=0)\r\n",
        "threedays_1=normalize(np.array(threedays_1).reshape(-1,1),axis=0)\r\n",
        "threedays_2=normalize(np.array(threedays_2).reshape(-1,1),axis=0)\r\n",
        "threedays_3=normalize(np.array(threedays_3).reshape(-1,1),axis=0)\r\n",
        "fourier_feat1_x=normalize(np.array(fourier_feat1_x).reshape(-1,1),axis=0)\r\n",
        "fourier_feat2_x=normalize(np.array(fourier_feat2_x).reshape(-1,1),axis=0)\r\n",
        "fourier_feat3_x=normalize(np.array(fourier_feat3_x).reshape(-1,1),axis=0)\r\n",
        "fourier_feat1_y=normalize(np.array(fourier_feat1_y).reshape(-1,1),axis=0)\r\n",
        "fourier_feat2_y=normalize(np.array(fourier_feat2_y).reshape(-1,1),axis=0)\r\n",
        "fourier_feat3_y=normalize(np.array(fourier_feat3_y).reshape(-1,1),axis=0)\r\n",
        "\r\n",
        "target_value=np.array(target_value).reshape(-1,1) # This is our target value\r\n",
        "\r\n",
        "# Here creating numpy arrays for our dataset\r\n",
        "# As the dataset is quite big( about 2 Million data points), will keep our data in numpy arrays for faster operations\r\n",
        "data=np.column_stack((week_day_ohe,weekly_trend,threedays_1,threedays_2,threedays_3,lang_feat_ohe,spider_feat_ohe,access_feat_ohe,\\\r\n",
        "               fourier_feat1_x,fourier_feat2_x,fourier_feat3_x,fourier_feat1_y,fourier_feat2_y,fourier_feat3_y))"
      ],
      "execution_count": null,
      "outputs": []
    },
    {
      "cell_type": "code",
      "metadata": {
        "id": "9q-jLo_AQ4EF"
      },
      "source": [
        "indices = np.random.permutation(data.shape[0]) # Shuffling the indexes of our data\r\n",
        "training_idx, test_idx = indices[:int(0.75*data.shape[0])], indices[int(0.75*data.shape[0]):] # Taking 70% of data for training\r\n",
        "x_train,x_test = data[training_idx,:], data[test_idx,:]\r\n",
        "y_train,y_test=target_value[training_idx,:],target_value[test_idx,:]\r\n",
        "\r\n",
        "y_train=y_train.reshape(y_train.shape[0])\r\n",
        "y_test=y_test.reshape(y_test.shape[0])"
      ],
      "execution_count": null,
      "outputs": []
    },
    {
      "cell_type": "markdown",
      "metadata": {
        "id": "OCLaODFqKjuQ"
      },
      "source": [
        "<h3>Modelling</h3>"
      ]
    },
    {
      "cell_type": "code",
      "metadata": {
        "id": "3cy-dgF6zmE3"
      },
      "source": [
        "from sklearn.model_selection import GridSearchCV,RandomizedSearchCV\r\n",
        "from sklearn.metrics import make_scorer\r\n",
        "from sklearn.linear_model import LinearRegression\r\n",
        "from sklearn.tree import DecisionTreeRegressor\r\n",
        "from operator import sub,truediv,add\r\n",
        "from sklearn.ensemble import RandomForestRegressor\r\n",
        "from xgboost import XGBRegressor"
      ],
      "execution_count": null,
      "outputs": []
    },
    {
      "cell_type": "markdown",
      "metadata": {
        "id": "AXc9lREU0w-0"
      },
      "source": [
        "<h3>Performance Metric</h3>\r\n",
        "\r\n",
        "![SMAPE.png](data:image/png;base64,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)\r\n",
        "\r\n",
        "\r\n",
        "where At is the actual value and Ft is the forecast value. Symmetric mean absolute percentage error (SMAPE or sMAPE) is an accuracy measure based on percentage (or relative) errors.\r\n",
        "In contrast to the mean absolute percentage error, SMAPE has both a lower bound and an upper bound. Indeed, the formula above provides a result between 0% and 200%."
      ]
    },
    {
      "cell_type": "code",
      "metadata": {
        "id": "gG8TQkfoSS5G"
      },
      "source": [
        "# This will be our performance metric, this is custom build SMAPE \r\n",
        "def smape(actual,visits):\r\n",
        "    temp_list=[2 for i in range(len(actual))]\r\n",
        "    val1=np.abs(list(map(sub,visits,actual)))\r\n",
        "    val2=list(map(add,np.abs(actual),np.abs(visits)))\r\n",
        "    val4=list(map(truediv,val2,temp_list))\r\n",
        "    val3=[]\r\n",
        "    for i in range(len(val4)):\r\n",
        "        if(val4[i]==0):\r\n",
        "            val3.append(0)\r\n",
        "        else:    \r\n",
        "            val3.append(val1[i]/val4[i])\r\n",
        "    return(np.sum(val3)/len(val3))  "
      ],
      "execution_count": null,
      "outputs": []
    },
    {
      "cell_type": "markdown",
      "metadata": {
        "id": "CY_EIBq4KxKT"
      },
      "source": [
        "<h4>Linear Regression</h4>"
      ]
    },
    {
      "cell_type": "code",
      "metadata": {
        "colab": {
          "base_uri": "https://localhost:8080/"
        },
        "id": "07NVScWISds6",
        "outputId": "bfb757ae-9c89-4ceb-c159-58d0b93035d7"
      },
      "source": [
        "reg = LinearRegression()\r\n",
        "reg.fit(x_train,y_train)\r\n",
        "pred=reg.predict(x_test)\r\n",
        "score=smape(y_test,pred)\r\n",
        "print('smape on LinearRegression is: ',score)"
      ],
      "execution_count": null,
      "outputs": [
        {
          "output_type": "stream",
          "text": [
            "smape on LinearRegression is:  0.7981847374271297\n"
          ],
          "name": "stdout"
        }
      ]
    },
    {
      "cell_type": "markdown",
      "metadata": {
        "id": "E_hNAMhVLAQh"
      },
      "source": [
        "These are not good results, we should try more powerful alogorithm and see how these performs."
      ]
    },
    {
      "cell_type": "markdown",
      "metadata": {
        "id": "DE_-h2RfLF78"
      },
      "source": [
        "<h3>Decision Tree</h3>"
      ]
    },
    {
      "cell_type": "code",
      "metadata": {
        "id": "K43luOs8bUF-"
      },
      "source": [
        "# Let's try decision tree, will do hyperparameter tuning as well\r\n",
        "max_depth=[10,50,500,1000]\r\n",
        "min_samples_split=[2,5,10,50,100,500]\r\n",
        "reg= DecisionTreeRegressor()\r\n",
        "random_grid={'max_depth':max_depth,'min_samples_split':min_samples_split}\r\n",
        "dt_grid = GridSearchCV(estimator = reg,scoring=make_scorer(smape,greater_is_better=False), param_grid = random_grid, \\\r\n",
        "                                cv = 3, verbose=30,iid=True, n_jobs = -1)\r\n",
        "dt_grid.fit(x_train, y_train)"
      ],
      "execution_count": null,
      "outputs": []
    },
    {
      "cell_type": "code",
      "metadata": {
        "colab": {
          "base_uri": "https://localhost:8080/"
        },
        "id": "8feXe90T2PLl",
        "outputId": "09ec2130-9298-4c21-9d7e-e85ee6a0cb89"
      },
      "source": [
        "dt_grid.best_params_ # These are the beat hyperparameters"
      ],
      "execution_count": null,
      "outputs": [
        {
          "output_type": "execute_result",
          "data": {
            "text/plain": [
              "{'max_depth': 1000, 'min_samples_split': 10}"
            ]
          },
          "metadata": {
            "tags": []
          },
          "execution_count": 43
        }
      ]
    },
    {
      "cell_type": "code",
      "metadata": {
        "colab": {
          "base_uri": "https://localhost:8080/"
        },
        "id": "JK3um-uZc6rG",
        "outputId": "eb6e31fe-2268-403d-a9ba-5af0a565b74c"
      },
      "source": [
        "# Decision tree with best hyperparameters\r\n",
        "\r\n",
        "reg= DecisionTreeRegressor(random_state=0,max_depth=1000,min_samples_split=10)\r\n",
        "reg.fit(x_train,y_train)\r\n",
        "pred=reg.predict(x_test)\r\n",
        "score=smape(y_test,pred)\r\n",
        "print('smape on DT with best hyperparameter is: ',score)"
      ],
      "execution_count": null,
      "outputs": [
        {
          "output_type": "stream",
          "text": [
            "smape on DT with best hyperparameter is:  0.40971058500263513\n"
          ],
          "name": "stdout"
        }
      ]
    },
    {
      "cell_type": "markdown",
      "metadata": {
        "id": "OLKkWvwaLa8a"
      },
      "source": [
        "Results are good in comparision to Linear Regression but overall these does not seem capable of getting us in good position on leaderboard."
      ]
    },
    {
      "cell_type": "markdown",
      "metadata": {
        "id": "VgWZmYOPLcnN"
      },
      "source": [
        "<h3>Random Forest</h3>"
      ]
    },
    {
      "cell_type": "code",
      "metadata": {
        "id": "frlwWv3CaeiZ"
      },
      "source": [
        "# Will try Random Forest, this shoud get us better results\r\n",
        "# Will start with hyperparameter tuning\r\n",
        "\r\n",
        "reg= RandomForestRegressor(random_state=0,max_depth=1000,min_samples_split=10)\r\n",
        "n_estimators=[50,100,250]\r\n",
        "random_grid={'n_estimators':n_estimators}\r\n",
        "rf_random = GridSearchCV(estimator = reg,scoring=make_scorer(smape,greater_is_better=False), param_grid = random_grid, \\\r\n",
        "                                cv = 3, verbose=20,n_jobs = -1)\r\n",
        "rf_random.fit(x_train, y_train)"
      ],
      "execution_count": null,
      "outputs": []
    },
    {
      "cell_type": "code",
      "metadata": {
        "id": "79PTYUwjepBO"
      },
      "source": [
        "rf_random.best_params_"
      ],
      "execution_count": null,
      "outputs": []
    },
    {
      "cell_type": "code",
      "metadata": {
        "id": "MnFXiskI5Zsk"
      },
      "source": [
        "# Random forest with best hyperparameters\r\n",
        "reg= RandomForestRegressor(random_state=0,max_depth=1000,min_samples_split=10,n_estimators=250)\r\n",
        "reg.fit(x_train,y_train)\r\n",
        "pred=reg.predict(x_test)\r\n",
        "score=smape(y_test,pred)"
      ],
      "execution_count": null,
      "outputs": []
    },
    {
      "cell_type": "code",
      "metadata": {
        "colab": {
          "base_uri": "https://localhost:8080/"
        },
        "id": "Oc_WFvre0lne",
        "outputId": "9730f020-06f6-42b1-dde5-2e6583130865"
      },
      "source": [
        "score"
      ],
      "execution_count": null,
      "outputs": [
        {
          "output_type": "execute_result",
          "data": {
            "text/plain": [
              "0.37255756015019287"
            ]
          },
          "metadata": {
            "tags": []
          },
          "execution_count": 33
        }
      ]
    },
    {
      "cell_type": "markdown",
      "metadata": {
        "id": "fFnIq4RXbRWb"
      },
      "source": [
        "These results are far better than Decision tree but keep in mind that we are using certain features for this prediction that we don't have future data and we have to make prediction sequentially in order to make predictions and use these predictions as a feature for future predictions, the errors in our predictions will increase exponentially as we will try to predict for more farther dates. So, we have to get much better score here from the score that we expecting on leaderboard because leaderboard score will greater than this. "
      ]
    },
    {
      "cell_type": "markdown",
      "metadata": {
        "id": "KhTJmXBNcFmT"
      },
      "source": [
        "<h3>XGBoost</h3>"
      ]
    },
    {
      "cell_type": "code",
      "metadata": {
        "id": "WnJ0g69n8Asc"
      },
      "source": [
        "# Will check how well Xgboost can perform\r\n",
        "# Already tuned some of the hyperparameters in RandomForest and will use those here as well because tuning them again will take a lot of time\r\n",
        "random_grid={'learning_rate':[0.01,0.1,1]}\r\n",
        "reg=XGBRegressor(max_depth=1000,verbosity=3,n_jobs=-1,n_estimators=250)\r\n",
        "xgb_grid = GridSearchCV(estimator = reg,scoring=make_scorer(smape,greater_is_better=False), param_grid = random_grid, \\\r\n",
        "                                cv = 3, verbose=20,n_jobs = -1)\r\n",
        "xgb_grid.fit(x_train, y_train)"
      ],
      "execution_count": null,
      "outputs": []
    },
    {
      "cell_type": "code",
      "metadata": {
        "id": "Pqaox1guebio"
      },
      "source": [
        "xgb_grid.best_params_"
      ],
      "execution_count": null,
      "outputs": []
    },
    {
      "cell_type": "code",
      "metadata": {
        "colab": {
          "base_uri": "https://localhost:8080/"
        },
        "id": "iuRp7SL30rcM",
        "outputId": "387ea545-c642-489d-eae9-3c3584c28c7b"
      },
      "source": [
        "# Xgboost training on best hyperparameters on new data\r\n",
        "\r\n",
        "reg=XGBRegressor(max_depth=1000,n_jobs=-1,n_estimators=250,learning_rate=1)\r\n",
        "reg.fit(x_train,y_train)\r\n",
        "pred=reg.predict(x_test)\r\n",
        "score_xgb=smape(y_test,pred)"
      ],
      "execution_count": null,
      "outputs": [
        {
          "output_type": "stream",
          "text": [
            "[06:52:25] WARNING: /workspace/src/objective/regression_obj.cu:152: reg:linear is now deprecated in favor of reg:squarederror.\n"
          ],
          "name": "stdout"
        }
      ]
    },
    {
      "cell_type": "code",
      "metadata": {
        "colab": {
          "base_uri": "https://localhost:8080/"
        },
        "id": "w2v2gp0o7N2t",
        "outputId": "f7970fa3-13cf-4d99-af83-7c3348e362d3"
      },
      "source": [
        "score_xgb"
      ],
      "execution_count": null,
      "outputs": [
        {
          "output_type": "execute_result",
          "data": {
            "text/plain": [
              "0.4389810987384087"
            ]
          },
          "metadata": {
            "tags": []
          },
          "execution_count": 34
        }
      ]
    },
    {
      "cell_type": "markdown",
      "metadata": {
        "id": "HAjmHw9u7z38"
      },
      "source": [
        "The score is even more then the random forest and Decision tree algorithms"
      ]
    },
    {
      "cell_type": "markdown",
      "metadata": {
        "id": "mC44sEt1QYh5"
      },
      "source": [
        "<h3>Summary of performane of all the models</h3>\r\n",
        "\r\n",
        "Liner Regression- 0.79\r\n",
        "\r\n",
        "Decision Tree- 0.40\r\n",
        "\r\n",
        "Random Forest- 0.37\r\n",
        "\r\n",
        "XgBoost - 0.43"
      ]
    },
    {
      "cell_type": "markdown",
      "metadata": {
        "id": "ws8Jy5mSQ1yB"
      },
      "source": [
        "Best performing model here is Random Forest, so we will use it for predctions for kaggle and lets hope this can perform good on leaderboard as well."
      ]
    },
    {
      "cell_type": "markdown",
      "metadata": {
        "id": "hv7R_mxrRONo"
      },
      "source": [
        "<h3>Predictions for kaggle</h3>\r\n",
        "\r\n",
        "Will create all the features for predictions that we created during feature engineering"
      ]
    },
    {
      "cell_type": "code",
      "metadata": {
        "id": "0gslG4UuDBL5"
      },
      "source": [
        "backup = train\r\n",
        "train = train.drop(['Page','lang','access','agent'],axis=1)"
      ],
      "execution_count": null,
      "outputs": []
    },
    {
      "cell_type": "code",
      "metadata": {
        "colab": {
          "base_uri": "https://localhost:8080/",
          "height": 66,
          "referenced_widgets": [
            "bbb40ad11f8f4ec8bf88b3227560b6f3"
          ]
        },
        "id": "Lf0QW8Td8S36",
        "outputId": "4d5d7d26-9c41-4cc9-8450-47a14b4134eb"
      },
      "source": [
        "# These 6 list will contain the X and Y co-ordinates for top 3 peaks\r\n",
        "fourier_fea1_x=[]\r\n",
        "fourier_fea2_x=[]\r\n",
        "fourier_fea3_x=[]\r\n",
        "fourier_fea1_y=[]\r\n",
        "fourier_fea2_y=[]\r\n",
        "fourier_fea3_y=[]\r\n",
        "for t in tnrange(len(Page_name)):\r\n",
        "    data=train.iloc[t].values # This is the data that we are going to transform into the frequency domain\r\n",
        "    data=data-np.mean(data) # At frequency bin 0, we get the mean value of our signal. In order to remove that we are subtracting mean of the data from every datapoint\r\n",
        "    x=fft(data) #Fourier Transformation\r\n",
        "    freq=np.linspace(0,803//2,803//2) # According to Shannon, we can only analyse the frequency of half of the sample, this function creates evenly spaced numbers which will be used as frequency in plot\r\n",
        "    y=2/803*np.abs(x[0:803//2]) # Taking absolute values of half data points \r\n",
        "\r\n",
        "  # Below is the code to create features from the frequency domain\r\n",
        "    temp=y.copy()\r\n",
        "    temp1=temp[15:]\r\n",
        "    temp1=np.sort(temp1)\r\n",
        "    k=temp1[len(temp1)-3:]\r\n",
        "    fourier_temp1_x=[]\r\n",
        "    fourier_temp2_x=[]\r\n",
        "    fourier_temp3_x=[]\r\n",
        "    fourier_temp1_y=[]\r\n",
        "    fourier_temp2_y=[]\r\n",
        "    fourier_temp3_y=[]\r\n",
        "    for i in range(len(k)):\r\n",
        "        temp_fourier_x=[]\r\n",
        "        temp_fourier_y=[]\r\n",
        "        temp_fourier_x.append(freq[list(y).index(k[i])])\r\n",
        "        temp_fourier_y.append(list(y).index(k[i]))\r\n",
        "        if(i==0):\r\n",
        "            fourier_fea1_x.extend(temp_fourier_x)\r\n",
        "            fourier_fea1_y.extend(temp_fourier_y)\r\n",
        "        if(i==1):\r\n",
        "            fourier_fea2_x.extend(temp_fourier_x)\r\n",
        "            fourier_fea2_y.extend(temp_fourier_y)\r\n",
        "        if(i==2):\r\n",
        "            fourier_fea3_x.extend(temp_fourier_x)\r\n",
        "            fourier_fea3_y.extend(temp_fourier_y)"
      ],
      "execution_count": null,
      "outputs": [
        {
          "output_type": "display_data",
          "data": {
            "application/vnd.jupyter.widget-view+json": {
              "model_id": "bbb40ad11f8f4ec8bf88b3227560b6f3",
              "version_major": 2,
              "version_minor": 0
            },
            "text/plain": [
              "HBox(children=(FloatProgress(value=0.0, max=145063.0), HTML(value='')))"
            ]
          },
          "metadata": {
            "tags": []
          }
        },
        {
          "output_type": "stream",
          "text": [
            "\n"
          ],
          "name": "stdout"
        }
      ]
    },
    {
      "cell_type": "markdown",
      "metadata": {
        "id": "jxWlqr5oRthR"
      },
      "source": [
        "Created all the features. Now, will combine all the features and start making predictions for kaggle."
      ]
    },
    {
      "cell_type": "code",
      "metadata": {
        "colab": {
          "base_uri": "https://localhost:8080/",
          "height": 66,
          "referenced_widgets": [
            "1c4def4490484bb8be172ff684416376"
          ]
        },
        "id": "wlKzSSULvyoN",
        "outputId": "9c101ac2-21dd-4e26-d45c-298a3ee5a76a"
      },
      "source": [
        "date=datetime.date(2017,9,11)\r\n",
        "for m in tnrange(64):\r\n",
        "    d=date.weekday()\r\n",
        "    week_f=enc_week_day.transform(np.array([d]).reshape(-1,1))\r\n",
        "    threedays_1=[]\r\n",
        "    threedays_2=[]\r\n",
        "    threedays_3=[]\r\n",
        "    fourier1_x=[]\r\n",
        "    fourier2_x=[]\r\n",
        "    fourier3_x=[]\r\n",
        "    fourier1_y=[]\r\n",
        "    fourier2_y=[]\r\n",
        "    fourier3_y=[]\r\n",
        "    week_trend=[]\r\n",
        "    lang=[]\r\n",
        "    spider=[]\r\n",
        "    access=[]\r\n",
        "    week_f2=[]\r\n",
        "    for i in range(train.shape[0]):\r\n",
        "        k=train.iloc[i].values\r\n",
        "        threedays_1.append(k[-1] + k[-2] + k[-3])\r\n",
        "        threedays_2.append(k[-4] + k[-5] + k[-6])\r\n",
        "        threedays_3.append(k[-7] + k[-8] + k[-9])\r\n",
        "        fourier1_x.append(fourier_fea1_x[i])\r\n",
        "        fourier2_x.append(fourier_fea2_x[i])\r\n",
        "        fourier3_x.append(fourier_fea3_x[i])\r\n",
        "        fourier1_y.append(fourier_fea1_y[i])\r\n",
        "        fourier2_y.append(fourier_fea2_y[i])\r\n",
        "        fourier3_y.append(fourier_fea3_y[i])\r\n",
        "        week_trend.append(k[-7])\r\n",
        "        lang.append(lang_feat_ohe[i])\r\n",
        "        spider.append(spider_feat_ohe[i])\r\n",
        "        access.append(access_feat_ohe[i])\r\n",
        "        week_f2.append(week_f[0])\r\n",
        "    pred_data=np.column_stack((week_f2,week_trend,threedays_1,threedays_2,threedays_3,lang,spider,access,fourier1_x,fourier2_x,\r\n",
        "                           fourier3_x,fourier1_y,fourier2_y,fourier3_y))    \r\n",
        "    pred_value=reg.predict(pred_data)\r\n",
        "    train[str(date)]=pred_value # This will update the data so that we can take values from it in order to make predictions for farther dates.\r\n",
        "    date += datetime.timedelta(days=1)   #https://stackoverflow.com/questions/3240458/how-to-increment-a-datetime-by-one-day"
      ],
      "execution_count": null,
      "outputs": [
        {
          "output_type": "display_data",
          "data": {
            "application/vnd.jupyter.widget-view+json": {
              "model_id": "1c4def4490484bb8be172ff684416376",
              "version_major": 2,
              "version_minor": 0
            },
            "text/plain": [
              "HBox(children=(FloatProgress(value=0.0, max=64.0), HTML(value='')))"
            ]
          },
          "metadata": {
            "tags": []
          }
        },
        {
          "output_type": "stream",
          "text": [
            "\n"
          ],
          "name": "stdout"
        }
      ]
    },
    {
      "cell_type": "markdown",
      "metadata": {
        "id": "mt4nUyDHSV1M"
      },
      "source": [
        "Now, done with all the predictions. Will prepare the submission file."
      ]
    },
    {
      "cell_type": "code",
      "metadata": {
        "colab": {
          "base_uri": "https://localhost:8080/",
          "height": 66,
          "referenced_widgets": [
            "e1932cb93e4b43e790d2a5ef49cfcad9"
          ]
        },
        "id": "RfnmUDWwpaac",
        "outputId": "07916bb1-647d-41b3-b25f-d025d2693574"
      },
      "source": [
        "# Below code takes name of each page from train data which contains 145063*62 rows i.e. 62 names for each page\r\n",
        "ids=key['Page'].values\r\n",
        "visits={} # In this we will store our predictions, keys are the name of the page and values are the predictions\r\n",
        "for i in tnrange(train.shape[0]):\r\n",
        "    date = datetime.date(2017,9,13)\r\n",
        "    for j in range(62):\r\n",
        "        name=Page_name[i] + '_' + str(date)\r\n",
        "        visits[name]=train.at[i,str(date)]\r\n",
        "        date += datetime.timedelta(days=1)   "
      ],
      "execution_count": null,
      "outputs": [
        {
          "output_type": "display_data",
          "data": {
            "application/vnd.jupyter.widget-view+json": {
              "model_id": "e1932cb93e4b43e790d2a5ef49cfcad9",
              "version_major": 2,
              "version_minor": 0
            },
            "text/plain": [
              "HBox(children=(FloatProgress(value=0.0, max=145063.0), HTML(value='')))"
            ]
          },
          "metadata": {
            "tags": []
          }
        },
        {
          "output_type": "stream",
          "text": [
            "\n"
          ],
          "name": "stdout"
        }
      ]
    },
    {
      "cell_type": "code",
      "metadata": {
        "colab": {
          "base_uri": "https://localhost:8080/",
          "height": 66,
          "referenced_widgets": [
            "005ec898cbf940429bdb2e048fca0235"
          ]
        },
        "id": "gWfy4LfWp1hD",
        "outputId": "cc2cc923-7cef-46aa-bb1a-8691a98a3026"
      },
      "source": [
        "# Below code maps each page name to the corresponding id for Kaggle submission\r\n",
        "for i in tnrange(len(ids)):\r\n",
        "    submit_file.at[i,'Visits']=visits[ids[i]]"
      ],
      "execution_count": null,
      "outputs": [
        {
          "output_type": "display_data",
          "data": {
            "application/vnd.jupyter.widget-view+json": {
              "model_id": "005ec898cbf940429bdb2e048fca0235",
              "version_major": 2,
              "version_minor": 0
            },
            "text/plain": [
              "HBox(children=(FloatProgress(value=0.0, max=8993906.0), HTML(value='')))"
            ]
          },
          "metadata": {
            "tags": []
          }
        },
        {
          "output_type": "stream",
          "text": [
            "\n"
          ],
          "name": "stdout"
        }
      ]
    },
    {
      "cell_type": "code",
      "metadata": {
        "id": "e4vUKHPWqCMm"
      },
      "source": [
        "submit_file.to_csv('rf_submission.csv',index=False)"
      ],
      "execution_count": null,
      "outputs": []
    },
    {
      "cell_type": "code",
      "metadata": {
        "colab": {
          "base_uri": "https://localhost:8080/"
        },
        "id": "9aEuy_Ngqbvg",
        "outputId": "7dfe140c-a61c-4b1e-f669-8339a3342251"
      },
      "source": [
        "!kaggle competitions submit -c web-traffic-time-series-forecasting -f rf_submission.csv -m \"Prediction done after feature engineering rf\""
      ],
      "execution_count": null,
      "outputs": [
        {
          "output_type": "stream",
          "text": [
            "Warning: Looks like you're using an outdated API Version, please consider updating (server 1.5.10 / client 1.5.4)\n",
            "100% 189M/189M [00:06<00:00, 29.2MB/s]\n",
            "Successfully submitted to Web Traffic Time Series Forecasting"
          ],
          "name": "stdout"
        }
      ]
    },
    {
      "cell_type": "markdown",
      "metadata": {
        "id": "WoOfvEAvWL2K"
      },
      "source": [
        "Tried submitting with Xgboost algorithm, inspite of maximum score then random forest , xgb preformed well than random forest in Kaggle"
      ]
    },
    {
      "cell_type": "markdown",
      "metadata": {
        "id": "kGMbchWFJPRO"
      },
      "source": [
        "![image.png](data:image/png;base64,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)"
      ]
    },
    {
      "cell_type": "markdown",
      "metadata": {
        "id": "i91aYvrBJbR7"
      },
      "source": [
        "\r\n",
        "This is exactly what i was fearing, error indeed increased exponentially as we predicted for more farther dates, this score is worse than our median submission. Now, we have to think of something else."
      ]
    },
    {
      "cell_type": "markdown",
      "metadata": {
        "id": "c754ADH5oIGn"
      },
      "source": [
        "Now, Will try LSTM as well. Like before, will not use any feature that uses predicted data as it will create problems."
      ]
    },
    {
      "cell_type": "markdown",
      "metadata": {
        "id": "xuWYNVYqoQhz"
      },
      "source": [
        "<h3>LSTM</h3>"
      ]
    },
    {
      "cell_type": "code",
      "metadata": {
        "id": "b9Xl2_GFqZ53"
      },
      "source": [
        "backup =train\r\n",
        "train = train.drop('Page',axis=1)"
      ],
      "execution_count": null,
      "outputs": []
    },
    {
      "cell_type": "code",
      "metadata": {
        "id": "YAUUXaZeoWM6"
      },
      "source": [
        "indices = np.random.permutation(train.shape[0]) # Shuffling indexes of data\r\n",
        "# As we have more than 145k time series, using only 50% of data to train the model.\r\n",
        "idx=indices[:int(0.50*train.shape[0])]"
      ],
      "execution_count": null,
      "outputs": []
    },
    {
      "cell_type": "markdown",
      "metadata": {
        "id": "IcW2PKi1o1p2"
      },
      "source": [
        "For evaluating our model, will use Mean Absolute Error(MAE) on log1p of data. This is pretty similar to SMAPE on original data. After final predictions will use expm1 on data to convert it back to original form."
      ]
    },
    {
      "cell_type": "code",
      "metadata": {
        "colab": {
          "base_uri": "https://localhost:8080/",
          "height": 66,
          "referenced_widgets": [
            "a57f62a5d2234013a4520f2d30ba707a"
          ]
        },
        "id": "SR__3Xt_pKG3",
        "outputId": "3df7d76a-a383-405e-ce93-6511d2bb1072"
      },
      "source": [
        "#Along with the time series, will use the three features as well that can extract from the page name\r\n",
        "x_train=[]\r\n",
        "y_train=[]\r\n",
        "lang=[] # This will contain the language of the page\r\n",
        "agent=[] # this will contain if the page was accessed by spider or by actual human\r\n",
        "access=[] #This will contain the client that was used to access the page\r\n",
        "import re\r\n",
        "for i in tqdm(idx):\r\n",
        "    k=np.log1p(train.iloc[i].values[-264:]) # Taking last 264 days of data and converting it to log1p.\r\n",
        "    x_train.append(k[:200]) # We will use 200 days of data for training and rest 64 days as our target values.\r\n",
        "    y_train.append(k[200:])\r\n",
        "\r\n",
        "    index=Page_name[i].find('.wikipedia')\r\n",
        "    lang.append(Page_name[i][index-1:index-3:-1][::-1])\r\n",
        "\r\n",
        "    if('spider' in Page_name[i]):\r\n",
        "        agent.append('spider')\r\n",
        "    else:\r\n",
        "        agent.append('non-spider') \r\n",
        " \r\n",
        "    k=max([i.start() for i in re.finditer('org_',Page_name[i])])   #https://www.geeksforgeeks.org/python-all-occurrences-of-substring-in-string/\r\n",
        "    if('all-access' in Page_name[i][k:]):\r\n",
        "        access.append('all_access')\r\n",
        "    if('desktop' in Page_name[i][k:]):\r\n",
        "        access.append('desktop')\r\n",
        "    if('mobile' in Page_name[i][k:]): \r\n",
        "        access.append('mobile')"
      ],
      "execution_count": null,
      "outputs": [
        {
          "output_type": "display_data",
          "data": {
            "application/vnd.jupyter.widget-view+json": {
              "model_id": "a57f62a5d2234013a4520f2d30ba707a",
              "version_major": 2,
              "version_minor": 0
            },
            "text/plain": [
              "HBox(children=(FloatProgress(value=0.0, max=72531.0), HTML(value='')))"
            ]
          },
          "metadata": {
            "tags": []
          }
        },
        {
          "output_type": "stream",
          "text": [
            "\n"
          ],
          "name": "stdout"
        }
      ]
    },
    {
      "cell_type": "code",
      "metadata": {
        "id": "jSmduVfdqqPR"
      },
      "source": [
        "# Reshaping the data in order to fed it to the model\r\n",
        "x=np.array(x_train).reshape(len(idx),200,1)\r\n",
        "y=np.array(y_train).reshape(len(idx),64)"
      ],
      "execution_count": null,
      "outputs": []
    },
    {
      "cell_type": "code",
      "metadata": {
        "colab": {
          "base_uri": "https://localhost:8080/"
        },
        "id": "6AN__fZyq2GE",
        "outputId": "f0af4b38-c11f-46e6-dbc1-2d3d3547f4bb"
      },
      "source": [
        "x.shape"
      ],
      "execution_count": null,
      "outputs": [
        {
          "output_type": "execute_result",
          "data": {
            "text/plain": [
              "(72531, 200, 1)"
            ]
          },
          "metadata": {
            "tags": []
          },
          "execution_count": 23
        }
      ]
    },
    {
      "cell_type": "code",
      "metadata": {
        "id": "6_kftbIvq_Xp"
      },
      "source": [
        "# As we have a total of 72531 data points, will use 50000 for training\r\n",
        "x_train=x[:50000]\r\n",
        "y_train=y[:50000]\r\n",
        "x_test=x[50000:]\r\n",
        "y_test=y[50000:]"
      ],
      "execution_count": null,
      "outputs": []
    },
    {
      "cell_type": "code",
      "metadata": {
        "id": "bgGU_jyHrEnD"
      },
      "source": [
        "from sklearn.preprocessing import LabelEncoder\r\n",
        "# Label encoding each of the categorical feature\r\n",
        "access_enc=LabelEncoder()\r\n",
        "access=access_enc.fit_transform(access)\r\n",
        "\r\n",
        "lang_enc=LabelEncoder()\r\n",
        "lang=lang_enc.fit_transform(lang)\r\n",
        "\r\n",
        "spider_enc=LabelEncoder()\r\n",
        "spider=spider_enc.fit_transform(agent)"
      ],
      "execution_count": null,
      "outputs": []
    },
    {
      "cell_type": "code",
      "metadata": {
        "id": "HFX1ajuQrJL1"
      },
      "source": [
        "access_train=access[:50000] # Splitting into train and test\r\n",
        "access_test=access[50000:]\r\n",
        "\r\n",
        "lang_train=lang[:50000]\r\n",
        "lang_test=lang[50000:]\r\n",
        "\r\n",
        "spider_train=spider[:50000]\r\n",
        "spider_test=spider[50000:]"
      ],
      "execution_count": null,
      "outputs": []
    },
    {
      "cell_type": "code",
      "metadata": {
        "id": "ixVUYIXYrPv3"
      },
      "source": [
        "# Reshaping\r\n",
        "access_train=access_train.reshape(len(access_train),1)\r\n",
        "access_test=access_test.reshape(len(access_test),1)\r\n",
        "lang_train=lang_train.reshape(len(lang_train),1)\r\n",
        "lang_test=lang_test.reshape(len(lang_test),1)\r\n",
        "spider_train=spider_train.reshape(len(spider_train),1)\r\n",
        "spider_test=spider_test.reshape(len(spider_test),1)"
      ],
      "execution_count": null,
      "outputs": []
    },
    {
      "cell_type": "code",
      "metadata": {
        "id": "jmsXqMRKrUiJ"
      },
      "source": [
        "import tensorflow as tf\r\n",
        "from tensorflow.keras.models import Model\r\n",
        "from tensorflow.keras.layers import Dense,Input,Activation,LSTM,RepeatVector,TimeDistributed,Flatten,Conv1D,Conv2D,Embedding,Concatenate,Dropout\r\n",
        "from tensorflow.keras.callbacks import ModelCheckpoint"
      ],
      "execution_count": null,
      "outputs": []
    },
    {
      "cell_type": "code",
      "metadata": {
        "colab": {
          "base_uri": "https://localhost:8080/"
        },
        "id": "JvZ_UEf7rZpK",
        "outputId": "65347206-bcfc-4aa8-9550-84f00156c78a"
      },
      "source": [
        "#model structure\r\n",
        "input_layer=Input(shape=(x_train.shape[1],x_train.shape[2]))\r\n",
        "x=LSTM(100)(input_layer)\r\n",
        "input_layer1=Input(shape=(access_train.shape[1],))\r\n",
        "x1=Embedding(input_dim=3,output_dim=3)(input_layer1)\r\n",
        "x1=Flatten()(x1)\r\n",
        "input_layer2=Input(shape=(lang_train.shape[1],))\r\n",
        "x2=Embedding(input_dim=8,output_dim=8)(input_layer2)\r\n",
        "x2=Flatten()(x2)\r\n",
        "input_layer3=Input(shape=(spider_train.shape[1],))\r\n",
        "x3=Embedding(input_dim=2,output_dim=2)(input_layer3)\r\n",
        "x3=Flatten()(x3)\r\n",
        "concat=Concatenate()([x,x1,x2,x3])\r\n",
        "x=Dense(264,activation='relu')(concat)\r\n",
        "x=Dense(128,activation='relu')(x)\r\n",
        "\r\n",
        "output=Dense(64)(x)\r\n",
        "model=Model(inputs=[input_layer,input_layer1,input_layer2,input_layer3],outputs=output)\r\n",
        "optimizer=tf.keras.optimizers.Adam()\r\n",
        "model.compile(optimizer=optimizer, loss='mae')\r\n",
        "model.fit([x_train,access_train,lang_train,spider_train], y_train, validation_data=([x_test,access_test,lang_test,spider_test],y_test),epochs=80, batch_size=64)"
      ],
      "execution_count": null,
      "outputs": [
        {
          "output_type": "stream",
          "text": [
            "Epoch 1/80\n",
            "782/782 [==============================] - 18s 14ms/step - loss: 0.8879 - val_loss: 0.4070\n",
            "Epoch 2/80\n",
            "782/782 [==============================] - 11s 14ms/step - loss: 0.4013 - val_loss: 0.4045\n",
            "Epoch 3/80\n",
            "782/782 [==============================] - 10s 13ms/step - loss: 0.3942 - val_loss: 0.3848\n",
            "Epoch 4/80\n",
            "782/782 [==============================] - 10s 13ms/step - loss: 0.3830 - val_loss: 0.3746\n",
            "Epoch 5/80\n",
            "782/782 [==============================] - 10s 13ms/step - loss: 0.3768 - val_loss: 0.3654\n",
            "Epoch 6/80\n",
            "782/782 [==============================] - 10s 13ms/step - loss: 0.3720 - val_loss: 0.3726\n",
            "Epoch 7/80\n",
            "782/782 [==============================] - 10s 13ms/step - loss: 0.3656 - val_loss: 0.3635\n",
            "Epoch 8/80\n",
            "782/782 [==============================] - 10s 13ms/step - loss: 0.3637 - val_loss: 0.3579\n",
            "Epoch 9/80\n",
            "782/782 [==============================] - 10s 13ms/step - loss: 0.3626 - val_loss: 0.3587\n",
            "Epoch 10/80\n",
            "782/782 [==============================] - 10s 13ms/step - loss: 0.3592 - val_loss: 0.3555\n",
            "Epoch 11/80\n",
            "782/782 [==============================] - 10s 13ms/step - loss: 0.3599 - val_loss: 0.3567\n",
            "Epoch 12/80\n",
            "782/782 [==============================] - 10s 13ms/step - loss: 0.3566 - val_loss: 0.3600\n",
            "Epoch 13/80\n",
            "782/782 [==============================] - 10s 13ms/step - loss: 0.3567 - val_loss: 0.3510\n",
            "Epoch 14/80\n",
            "782/782 [==============================] - 10s 13ms/step - loss: 0.3541 - val_loss: 0.3602\n",
            "Epoch 15/80\n",
            "782/782 [==============================] - 10s 13ms/step - loss: 0.3554 - val_loss: 0.3517\n",
            "Epoch 16/80\n",
            "782/782 [==============================] - 10s 13ms/step - loss: 0.3535 - val_loss: 0.3541\n",
            "Epoch 17/80\n",
            "782/782 [==============================] - 10s 13ms/step - loss: 0.3507 - val_loss: 0.3587\n",
            "Epoch 18/80\n",
            "782/782 [==============================] - 10s 13ms/step - loss: 0.3525 - val_loss: 0.3523\n",
            "Epoch 19/80\n",
            "782/782 [==============================] - 10s 13ms/step - loss: 0.3504 - val_loss: 0.3509\n",
            "Epoch 20/80\n",
            "782/782 [==============================] - 10s 13ms/step - loss: 0.3502 - val_loss: 0.3499\n",
            "Epoch 21/80\n",
            "782/782 [==============================] - 10s 13ms/step - loss: 0.3483 - val_loss: 0.3611\n",
            "Epoch 22/80\n",
            "782/782 [==============================] - 10s 13ms/step - loss: 0.3506 - val_loss: 0.3489\n",
            "Epoch 23/80\n",
            "782/782 [==============================] - 10s 13ms/step - loss: 0.3481 - val_loss: 0.3519\n",
            "Epoch 24/80\n",
            "782/782 [==============================] - 10s 13ms/step - loss: 0.3489 - val_loss: 0.3466\n",
            "Epoch 25/80\n",
            "782/782 [==============================] - 10s 13ms/step - loss: 0.3481 - val_loss: 0.3452\n",
            "Epoch 26/80\n",
            "782/782 [==============================] - 10s 13ms/step - loss: 0.3467 - val_loss: 0.3482\n",
            "Epoch 27/80\n",
            "782/782 [==============================] - 10s 13ms/step - loss: 0.3465 - val_loss: 0.3488\n",
            "Epoch 28/80\n",
            "782/782 [==============================] - 10s 13ms/step - loss: 0.3445 - val_loss: 0.3516\n",
            "Epoch 29/80\n",
            "782/782 [==============================] - 10s 13ms/step - loss: 0.3461 - val_loss: 0.3479\n",
            "Epoch 30/80\n",
            "782/782 [==============================] - 10s 13ms/step - loss: 0.3461 - val_loss: 0.3452\n",
            "Epoch 31/80\n",
            "782/782 [==============================] - 10s 13ms/step - loss: 0.3455 - val_loss: 0.3447\n",
            "Epoch 32/80\n",
            "782/782 [==============================] - 10s 13ms/step - loss: 0.3466 - val_loss: 0.3573\n",
            "Epoch 33/80\n",
            "782/782 [==============================] - 10s 13ms/step - loss: 0.3427 - val_loss: 0.3435\n",
            "Epoch 34/80\n",
            "782/782 [==============================] - 10s 13ms/step - loss: 0.3445 - val_loss: 0.3426\n",
            "Epoch 35/80\n",
            "782/782 [==============================] - 10s 13ms/step - loss: 0.3422 - val_loss: 0.3453\n",
            "Epoch 36/80\n",
            "782/782 [==============================] - 10s 13ms/step - loss: 0.3455 - val_loss: 0.3471\n",
            "Epoch 37/80\n",
            "782/782 [==============================] - 10s 13ms/step - loss: 0.3446 - val_loss: 0.3520\n",
            "Epoch 38/80\n",
            "782/782 [==============================] - 10s 13ms/step - loss: 0.3418 - val_loss: 0.3450\n",
            "Epoch 39/80\n",
            "782/782 [==============================] - 10s 13ms/step - loss: 0.3410 - val_loss: 0.3585\n",
            "Epoch 40/80\n",
            "782/782 [==============================] - 10s 13ms/step - loss: 0.3411 - val_loss: 0.3448\n",
            "Epoch 41/80\n",
            "782/782 [==============================] - 10s 13ms/step - loss: 0.3391 - val_loss: 0.3464\n",
            "Epoch 42/80\n",
            "782/782 [==============================] - 10s 13ms/step - loss: 0.3416 - val_loss: 0.3448\n",
            "Epoch 43/80\n",
            "782/782 [==============================] - 10s 13ms/step - loss: 0.3410 - val_loss: 0.3478\n",
            "Epoch 44/80\n",
            "782/782 [==============================] - 10s 13ms/step - loss: 0.3419 - val_loss: 0.3422\n",
            "Epoch 45/80\n",
            "782/782 [==============================] - 10s 13ms/step - loss: 0.3370 - val_loss: 0.3446\n",
            "Epoch 46/80\n",
            "782/782 [==============================] - 10s 13ms/step - loss: 0.3378 - val_loss: 0.3428\n",
            "Epoch 47/80\n",
            "782/782 [==============================] - 10s 13ms/step - loss: 0.3367 - val_loss: 0.3461\n",
            "Epoch 48/80\n",
            "782/782 [==============================] - 10s 13ms/step - loss: 0.3379 - val_loss: 0.3465\n",
            "Epoch 49/80\n",
            "782/782 [==============================] - 10s 13ms/step - loss: 0.3372 - val_loss: 0.3511\n",
            "Epoch 50/80\n",
            "782/782 [==============================] - 10s 13ms/step - loss: 0.3364 - val_loss: 0.3411\n",
            "Epoch 51/80\n",
            "782/782 [==============================] - 10s 13ms/step - loss: 0.3359 - val_loss: 0.3433\n",
            "Epoch 52/80\n",
            "782/782 [==============================] - 10s 13ms/step - loss: 0.3352 - val_loss: 0.3431\n",
            "Epoch 53/80\n",
            "782/782 [==============================] - 10s 13ms/step - loss: 0.3355 - val_loss: 0.3400\n",
            "Epoch 54/80\n",
            "782/782 [==============================] - 10s 13ms/step - loss: 0.3358 - val_loss: 0.3415\n",
            "Epoch 55/80\n",
            "782/782 [==============================] - 10s 13ms/step - loss: 0.3360 - val_loss: 0.3430\n",
            "Epoch 56/80\n",
            "782/782 [==============================] - 10s 13ms/step - loss: 0.3350 - val_loss: 0.3395\n",
            "Epoch 57/80\n",
            "782/782 [==============================] - 10s 13ms/step - loss: 0.3355 - val_loss: 0.3409\n",
            "Epoch 58/80\n",
            "782/782 [==============================] - 10s 13ms/step - loss: 0.3336 - val_loss: 0.3400\n",
            "Epoch 59/80\n",
            "782/782 [==============================] - 10s 13ms/step - loss: 0.3340 - val_loss: 0.3449\n",
            "Epoch 60/80\n",
            "782/782 [==============================] - 10s 13ms/step - loss: 0.3327 - val_loss: 0.3402\n",
            "Epoch 61/80\n",
            "782/782 [==============================] - 10s 13ms/step - loss: 0.3332 - val_loss: 0.3427\n",
            "Epoch 62/80\n",
            "782/782 [==============================] - 10s 13ms/step - loss: 0.3333 - val_loss: 0.3497\n",
            "Epoch 63/80\n",
            "782/782 [==============================] - 10s 13ms/step - loss: 0.3321 - val_loss: 0.3405\n",
            "Epoch 64/80\n",
            "782/782 [==============================] - 10s 13ms/step - loss: 0.3324 - val_loss: 0.3419\n",
            "Epoch 65/80\n",
            "782/782 [==============================] - 10s 13ms/step - loss: 0.3319 - val_loss: 0.3413\n",
            "Epoch 66/80\n",
            "782/782 [==============================] - 10s 13ms/step - loss: 0.3296 - val_loss: 0.3442\n",
            "Epoch 67/80\n",
            "782/782 [==============================] - 10s 13ms/step - loss: 0.3315 - val_loss: 0.3435\n",
            "Epoch 68/80\n",
            "782/782 [==============================] - 10s 13ms/step - loss: 0.3302 - val_loss: 0.3397\n",
            "Epoch 69/80\n",
            "782/782 [==============================] - 10s 13ms/step - loss: 0.3306 - val_loss: 0.3388\n",
            "Epoch 70/80\n",
            "782/782 [==============================] - 10s 13ms/step - loss: 0.3293 - val_loss: 0.3394\n",
            "Epoch 71/80\n",
            "782/782 [==============================] - 10s 13ms/step - loss: 0.3284 - val_loss: 0.3439\n",
            "Epoch 72/80\n",
            "782/782 [==============================] - 10s 13ms/step - loss: 0.3293 - val_loss: 0.3450\n",
            "Epoch 73/80\n",
            "782/782 [==============================] - 10s 13ms/step - loss: 0.3303 - val_loss: 0.3385\n",
            "Epoch 74/80\n",
            "782/782 [==============================] - 10s 13ms/step - loss: 0.3297 - val_loss: 0.3408\n",
            "Epoch 75/80\n",
            "782/782 [==============================] - 10s 13ms/step - loss: 0.3285 - val_loss: 0.3397\n",
            "Epoch 76/80\n",
            "782/782 [==============================] - 10s 13ms/step - loss: 0.3271 - val_loss: 0.3393\n",
            "Epoch 77/80\n",
            "782/782 [==============================] - 10s 13ms/step - loss: 0.3267 - val_loss: 0.3404\n",
            "Epoch 78/80\n",
            "782/782 [==============================] - 10s 13ms/step - loss: 0.3267 - val_loss: 0.3393\n",
            "Epoch 79/80\n",
            "782/782 [==============================] - 10s 13ms/step - loss: 0.3280 - val_loss: 0.3392\n",
            "Epoch 80/80\n",
            "782/782 [==============================] - 10s 13ms/step - loss: 0.3242 - val_loss: 0.3415\n"
          ],
          "name": "stdout"
        },
        {
          "output_type": "execute_result",
          "data": {
            "text/plain": [
              "<tensorflow.python.keras.callbacks.History at 0x7f7345fe7c88>"
            ]
          },
          "metadata": {
            "tags": []
          },
          "execution_count": 31
        }
      ]
    },
    {
      "cell_type": "code",
      "metadata": {
        "colab": {
          "base_uri": "https://localhost:8080/",
          "height": 407
        },
        "id": "9NS-Fd6ovXX5",
        "outputId": "aa718597-3f5a-4d23-a8a5-64ab52efc3ea"
      },
      "source": [
        "tf.keras.utils.plot_model(model, to_file='model.png', show_shapes=True)"
      ],
      "execution_count": null,
      "outputs": [
        {
          "output_type": "execute_result",
          "data": {
            "image/png": "[encoded data removed]",
            "text/plain": [
              "<IPython.core.display.Image object>"
            ]
          },
          "metadata": {
            "tags": []
          },
          "execution_count": 32
        }
      ]
    },
    {
      "cell_type": "code",
      "metadata": {
        "colab": {
          "base_uri": "https://localhost:8080/"
        },
        "id": "GKG8Hp_qDjFv",
        "outputId": "ca2067f9-5a90-4a0a-e88f-fe2cfa087810"
      },
      "source": [
        "#model structure with Conv1D\r\n",
        "input_layer=Input(shape=(x_train.shape[1],x_train.shape[2]))\r\n",
        "cov1 = Conv1D(filters=64, kernel_size=3, activation='relu')(input_layer)\r\n",
        "x=LSTM(100)(cov1)\r\n",
        "input_layer1=Input(shape=(access_train.shape[1],))\r\n",
        "x1=Embedding(input_dim=3,output_dim=3)(input_layer1)\r\n",
        "x1=Flatten()(x1)\r\n",
        "input_layer2=Input(shape=(lang_train.shape[1],))\r\n",
        "x2=Embedding(input_dim=8,output_dim=8)(input_layer2)\r\n",
        "x2=Flatten()(x2)\r\n",
        "input_layer3=Input(shape=(spider_train.shape[1],))\r\n",
        "x3=Embedding(input_dim=2,output_dim=2)(input_layer3)\r\n",
        "x3=Flatten()(x3)\r\n",
        "concat=Concatenate()([x,x1,x2,x3])\r\n",
        "x=Dense(264,activation='relu')(concat)\r\n",
        "x=Dense(128,activation='relu')(x)\r\n",
        "\r\n",
        "output=Dense(64)(x)\r\n",
        "model=Model(inputs=[input_layer,input_layer1,input_layer2,input_layer3],outputs=output)\r\n",
        "optimizer=tf.keras.optimizers.Adam()\r\n",
        "model.compile(optimizer=optimizer, loss='mae')\r\n",
        "filepath='/content/model_save/weights-{epoch:02d}-{val_loss:.4f}.hdf5'\r\n",
        "model_checkpoint = ModelCheckpoint(filepath=filepath, monitor='val_loss', verbose=1, save_best_only=True,mode='min')\r\n",
        "callback = [model_checkpoint]\r\n",
        "model.fit([x_train,access_train,lang_train,spider_train], y_train, validation_data=([x_test,access_test,lang_test,spider_test],y_test),epochs=100, batch_size=64,callbacks=callback)"
      ],
      "execution_count": null,
      "outputs": [
        {
          "output_type": "stream",
          "text": [
            "Epoch 1/100\n",
            "782/782 [==============================] - 15s 16ms/step - loss: 0.8967 - val_loss: 0.6932\n",
            "\n",
            "Epoch 00001: val_loss improved from inf to 0.69317, saving model to /content/model_save/weights-01-0.6932.hdf5\n",
            "Epoch 2/100\n",
            "782/782 [==============================] - 12s 15ms/step - loss: 0.4264 - val_loss: 0.7767\n",
            "\n",
            "Epoch 00002: val_loss did not improve from 0.69317\n",
            "Epoch 3/100\n",
            "782/782 [==============================] - 12s 15ms/step - loss: 0.4125 - val_loss: 0.7372\n",
            "\n",
            "Epoch 00003: val_loss did not improve from 0.69317\n",
            "Epoch 4/100\n",
            "782/782 [==============================] - 12s 16ms/step - loss: 0.4032 - val_loss: 0.6409\n",
            "\n",
            "Epoch 00004: val_loss improved from 0.69317 to 0.64087, saving model to /content/model_save/weights-04-0.6409.hdf5\n",
            "Epoch 5/100\n",
            "782/782 [==============================] - 12s 15ms/step - loss: 0.3949 - val_loss: 0.6321\n",
            "\n",
            "Epoch 00005: val_loss improved from 0.64087 to 0.63214, saving model to /content/model_save/weights-05-0.6321.hdf5\n",
            "Epoch 6/100\n",
            "782/782 [==============================] - 12s 15ms/step - loss: 0.3900 - val_loss: 0.6356\n",
            "\n",
            "Epoch 00006: val_loss did not improve from 0.63214\n",
            "Epoch 7/100\n",
            "782/782 [==============================] - 12s 15ms/step - loss: 0.3876 - val_loss: 0.6022\n",
            "\n",
            "Epoch 00007: val_loss improved from 0.63214 to 0.60219, saving model to /content/model_save/weights-07-0.6022.hdf5\n",
            "Epoch 8/100\n",
            "782/782 [==============================] - 12s 15ms/step - loss: 0.3830 - val_loss: 0.5986\n",
            "\n",
            "Epoch 00008: val_loss improved from 0.60219 to 0.59861, saving model to /content/model_save/weights-08-0.5986.hdf5\n",
            "Epoch 9/100\n",
            "782/782 [==============================] - 12s 15ms/step - loss: 0.3776 - val_loss: 0.5071\n",
            "\n",
            "Epoch 00009: val_loss improved from 0.59861 to 0.50707, saving model to /content/model_save/weights-09-0.5071.hdf5\n",
            "Epoch 10/100\n",
            "782/782 [==============================] - 12s 15ms/step - loss: 0.3783 - val_loss: 0.6356\n",
            "\n",
            "Epoch 00010: val_loss did not improve from 0.50707\n",
            "Epoch 11/100\n",
            "782/782 [==============================] - 12s 15ms/step - loss: 0.3735 - val_loss: 0.5691\n",
            "\n",
            "Epoch 00011: val_loss did not improve from 0.50707\n",
            "Epoch 12/100\n",
            "782/782 [==============================] - 12s 15ms/step - loss: 0.3698 - val_loss: 0.5408\n",
            "\n",
            "Epoch 00012: val_loss did not improve from 0.50707\n",
            "Epoch 13/100\n",
            "782/782 [==============================] - 12s 15ms/step - loss: 0.3731 - val_loss: 0.6279\n",
            "\n",
            "Epoch 00013: val_loss did not improve from 0.50707\n",
            "Epoch 14/100\n",
            "782/782 [==============================] - 12s 15ms/step - loss: 0.3684 - val_loss: 0.5592\n",
            "\n",
            "Epoch 00014: val_loss did not improve from 0.50707\n",
            "Epoch 15/100\n",
            "782/782 [==============================] - 12s 16ms/step - loss: 0.3691 - val_loss: 0.5022\n",
            "\n",
            "Epoch 00015: val_loss improved from 0.50707 to 0.50218, saving model to /content/model_save/weights-15-0.5022.hdf5\n",
            "Epoch 16/100\n",
            "782/782 [==============================] - 12s 15ms/step - loss: 0.3670 - val_loss: 0.6360\n",
            "\n",
            "Epoch 00016: val_loss did not improve from 0.50218\n",
            "Epoch 17/100\n",
            "782/782 [==============================] - 12s 15ms/step - loss: 0.3668 - val_loss: 0.5157\n",
            "\n",
            "Epoch 00017: val_loss did not improve from 0.50218\n",
            "Epoch 18/100\n",
            "782/782 [==============================] - 12s 15ms/step - loss: 0.3647 - val_loss: 0.5032\n",
            "\n",
            "Epoch 00018: val_loss did not improve from 0.50218\n",
            "Epoch 19/100\n",
            "782/782 [==============================] - 12s 15ms/step - loss: 0.3632 - val_loss: 0.5055\n",
            "\n",
            "Epoch 00019: val_loss did not improve from 0.50218\n",
            "Epoch 20/100\n",
            "782/782 [==============================] - 12s 15ms/step - loss: 0.3629 - val_loss: 0.5354\n",
            "\n",
            "Epoch 00020: val_loss did not improve from 0.50218\n",
            "Epoch 21/100\n",
            "782/782 [==============================] - 12s 15ms/step - loss: 0.3628 - val_loss: 0.4752\n",
            "\n",
            "Epoch 00021: val_loss improved from 0.50218 to 0.47520, saving model to /content/model_save/weights-21-0.4752.hdf5\n",
            "Epoch 22/100\n",
            "782/782 [==============================] - 12s 15ms/step - loss: 0.3614 - val_loss: 0.4947\n",
            "\n",
            "Epoch 00022: val_loss did not improve from 0.47520\n",
            "Epoch 23/100\n",
            "782/782 [==============================] - 12s 15ms/step - loss: 0.3622 - val_loss: 0.5181\n",
            "\n",
            "Epoch 00023: val_loss did not improve from 0.47520\n",
            "Epoch 24/100\n",
            "782/782 [==============================] - 12s 15ms/step - loss: 0.3595 - val_loss: 0.5587\n",
            "\n",
            "Epoch 00024: val_loss did not improve from 0.47520\n",
            "Epoch 25/100\n",
            "782/782 [==============================] - 12s 15ms/step - loss: 0.3559 - val_loss: 0.5917\n",
            "\n",
            "Epoch 00025: val_loss did not improve from 0.47520\n",
            "Epoch 26/100\n",
            "782/782 [==============================] - 12s 15ms/step - loss: 0.3589 - val_loss: 0.5544\n",
            "\n",
            "Epoch 00026: val_loss did not improve from 0.47520\n",
            "Epoch 27/100\n",
            "782/782 [==============================] - 12s 16ms/step - loss: 0.3581 - val_loss: 0.5262\n",
            "\n",
            "Epoch 00027: val_loss did not improve from 0.47520\n",
            "Epoch 28/100\n",
            "782/782 [==============================] - 12s 15ms/step - loss: 0.3569 - val_loss: 0.4832\n",
            "\n",
            "Epoch 00028: val_loss did not improve from 0.47520\n",
            "Epoch 29/100\n",
            "782/782 [==============================] - 12s 16ms/step - loss: 0.3549 - val_loss: 0.5219\n",
            "\n",
            "Epoch 00029: val_loss did not improve from 0.47520\n",
            "Epoch 30/100\n",
            "782/782 [==============================] - 12s 15ms/step - loss: 0.3567 - val_loss: 0.5260\n",
            "\n",
            "Epoch 00030: val_loss did not improve from 0.47520\n",
            "Epoch 31/100\n",
            "782/782 [==============================] - 12s 15ms/step - loss: 0.3545 - val_loss: 0.5087\n",
            "\n",
            "Epoch 00031: val_loss did not improve from 0.47520\n",
            "Epoch 32/100\n",
            "782/782 [==============================] - 12s 15ms/step - loss: 0.3535 - val_loss: 0.5019\n",
            "\n",
            "Epoch 00032: val_loss did not improve from 0.47520\n",
            "Epoch 33/100\n",
            "782/782 [==============================] - 12s 16ms/step - loss: 0.3562 - val_loss: 0.5522\n",
            "\n",
            "Epoch 00033: val_loss did not improve from 0.47520\n",
            "Epoch 34/100\n",
            "782/782 [==============================] - 12s 16ms/step - loss: 0.3508 - val_loss: 0.5851\n",
            "\n",
            "Epoch 00034: val_loss did not improve from 0.47520\n",
            "Epoch 35/100\n",
            "782/782 [==============================] - 12s 16ms/step - loss: 0.3542 - val_loss: 0.5096\n",
            "\n",
            "Epoch 00035: val_loss did not improve from 0.47520\n",
            "Epoch 36/100\n",
            "782/782 [==============================] - 12s 16ms/step - loss: 0.3531 - val_loss: 0.5198\n",
            "\n",
            "Epoch 00036: val_loss did not improve from 0.47520\n",
            "Epoch 37/100\n",
            "782/782 [==============================] - 12s 16ms/step - loss: 0.3498 - val_loss: 0.4719\n",
            "\n",
            "Epoch 00037: val_loss improved from 0.47520 to 0.47192, saving model to /content/model_save/weights-37-0.4719.hdf5\n",
            "Epoch 38/100\n",
            "782/782 [==============================] - 12s 16ms/step - loss: 0.3536 - val_loss: 0.5581\n",
            "\n",
            "Epoch 00038: val_loss did not improve from 0.47192\n",
            "Epoch 39/100\n",
            "782/782 [==============================] - 12s 15ms/step - loss: 0.3501 - val_loss: 0.5645\n",
            "\n",
            "Epoch 00039: val_loss did not improve from 0.47192\n",
            "Epoch 40/100\n",
            "782/782 [==============================] - 12s 16ms/step - loss: 0.3497 - val_loss: 0.5595\n",
            "\n",
            "Epoch 00040: val_loss did not improve from 0.47192\n",
            "Epoch 41/100\n",
            "782/782 [==============================] - 12s 16ms/step - loss: 0.3507 - val_loss: 0.4920\n",
            "\n",
            "Epoch 00041: val_loss did not improve from 0.47192\n",
            "Epoch 42/100\n",
            "782/782 [==============================] - 12s 16ms/step - loss: 0.3495 - val_loss: 0.5250\n",
            "\n",
            "Epoch 00042: val_loss did not improve from 0.47192\n",
            "Epoch 43/100\n",
            "782/782 [==============================] - 12s 16ms/step - loss: 0.3509 - val_loss: 0.5230\n",
            "\n",
            "Epoch 00043: val_loss did not improve from 0.47192\n",
            "Epoch 44/100\n",
            "782/782 [==============================] - 12s 15ms/step - loss: 0.3488 - val_loss: 0.5586\n",
            "\n",
            "Epoch 00044: val_loss did not improve from 0.47192\n",
            "Epoch 45/100\n",
            "782/782 [==============================] - 12s 16ms/step - loss: 0.3476 - val_loss: 0.5668\n",
            "\n",
            "Epoch 00045: val_loss did not improve from 0.47192\n",
            "Epoch 46/100\n",
            "782/782 [==============================] - 12s 16ms/step - loss: 0.3500 - val_loss: 0.5684\n",
            "\n",
            "Epoch 00046: val_loss did not improve from 0.47192\n",
            "Epoch 47/100\n",
            "782/782 [==============================] - 12s 16ms/step - loss: 0.3486 - val_loss: 0.5417\n",
            "\n",
            "Epoch 00047: val_loss did not improve from 0.47192\n",
            "Epoch 48/100\n",
            "782/782 [==============================] - 12s 16ms/step - loss: 0.3477 - val_loss: 0.5457\n",
            "\n",
            "Epoch 00048: val_loss did not improve from 0.47192\n",
            "Epoch 49/100\n",
            "782/782 [==============================] - 12s 15ms/step - loss: 0.3461 - val_loss: 0.5820\n",
            "\n",
            "Epoch 00049: val_loss did not improve from 0.47192\n",
            "Epoch 50/100\n",
            "782/782 [==============================] - 12s 15ms/step - loss: 0.3493 - val_loss: 0.5846\n",
            "\n",
            "Epoch 00050: val_loss did not improve from 0.47192\n",
            "Epoch 51/100\n",
            "782/782 [==============================] - 12s 15ms/step - loss: 0.3465 - val_loss: 0.5026\n",
            "\n",
            "Epoch 00051: val_loss did not improve from 0.47192\n",
            "Epoch 52/100\n",
            "782/782 [==============================] - 12s 15ms/step - loss: 0.3465 - val_loss: 0.5663\n",
            "\n",
            "Epoch 00052: val_loss did not improve from 0.47192\n",
            "Epoch 53/100\n",
            "782/782 [==============================] - 12s 15ms/step - loss: 0.3460 - val_loss: 0.5318\n",
            "\n",
            "Epoch 00053: val_loss did not improve from 0.47192\n",
            "Epoch 54/100\n",
            "782/782 [==============================] - 12s 15ms/step - loss: 0.3477 - val_loss: 0.5441\n",
            "\n",
            "Epoch 00054: val_loss did not improve from 0.47192\n",
            "Epoch 55/100\n",
            "782/782 [==============================] - 12s 15ms/step - loss: 0.3471 - val_loss: 0.5440\n",
            "\n",
            "Epoch 00055: val_loss did not improve from 0.47192\n",
            "Epoch 56/100\n",
            "782/782 [==============================] - 12s 16ms/step - loss: 0.3467 - val_loss: 0.5983\n",
            "\n",
            "Epoch 00056: val_loss did not improve from 0.47192\n",
            "Epoch 57/100\n",
            "782/782 [==============================] - 12s 16ms/step - loss: 0.3466 - val_loss: 0.5577\n",
            "\n",
            "Epoch 00057: val_loss did not improve from 0.47192\n",
            "Epoch 58/100\n",
            "782/782 [==============================] - 12s 16ms/step - loss: 0.3454 - val_loss: 0.5528\n",
            "\n",
            "Epoch 00058: val_loss did not improve from 0.47192\n",
            "Epoch 59/100\n",
            "782/782 [==============================] - 12s 16ms/step - loss: 0.3439 - val_loss: 0.4889\n",
            "\n",
            "Epoch 00059: val_loss did not improve from 0.47192\n",
            "Epoch 60/100\n",
            "782/782 [==============================] - 12s 16ms/step - loss: 0.3454 - val_loss: 0.5326\n",
            "\n",
            "Epoch 00060: val_loss did not improve from 0.47192\n",
            "Epoch 61/100\n",
            "782/782 [==============================] - 12s 16ms/step - loss: 0.3466 - val_loss: 0.5837\n",
            "\n",
            "Epoch 00061: val_loss did not improve from 0.47192\n",
            "Epoch 62/100\n",
            "782/782 [==============================] - 12s 16ms/step - loss: 0.3452 - val_loss: 0.5307\n",
            "\n",
            "Epoch 00062: val_loss did not improve from 0.47192\n",
            "Epoch 63/100\n",
            "782/782 [==============================] - 12s 16ms/step - loss: 0.3462 - val_loss: 0.5328\n",
            "\n",
            "Epoch 00063: val_loss did not improve from 0.47192\n",
            "Epoch 64/100\n",
            "782/782 [==============================] - 12s 16ms/step - loss: 0.3426 - val_loss: 0.5600\n",
            "\n",
            "Epoch 00064: val_loss did not improve from 0.47192\n",
            "Epoch 65/100\n",
            "782/782 [==============================] - 12s 16ms/step - loss: 0.3446 - val_loss: 0.5846\n",
            "\n",
            "Epoch 00065: val_loss did not improve from 0.47192\n",
            "Epoch 66/100\n",
            "782/782 [==============================] - 12s 16ms/step - loss: 0.3425 - val_loss: 0.5469\n",
            "\n",
            "Epoch 00066: val_loss did not improve from 0.47192\n",
            "Epoch 67/100\n",
            "782/782 [==============================] - 12s 16ms/step - loss: 0.3434 - val_loss: 0.5361\n",
            "\n",
            "Epoch 00067: val_loss did not improve from 0.47192\n",
            "Epoch 68/100\n",
            "782/782 [==============================] - 12s 16ms/step - loss: 0.3429 - val_loss: 0.6009\n",
            "\n",
            "Epoch 00068: val_loss did not improve from 0.47192\n",
            "Epoch 69/100\n",
            "782/782 [==============================] - 12s 15ms/step - loss: 0.3446 - val_loss: 0.5501\n",
            "\n",
            "Epoch 00069: val_loss did not improve from 0.47192\n",
            "Epoch 70/100\n",
            "782/782 [==============================] - 12s 16ms/step - loss: 0.3435 - val_loss: 0.5869\n",
            "\n",
            "Epoch 00070: val_loss did not improve from 0.47192\n",
            "Epoch 71/100\n",
            "782/782 [==============================] - 12s 15ms/step - loss: 0.3425 - val_loss: 0.5685\n",
            "\n",
            "Epoch 00071: val_loss did not improve from 0.47192\n",
            "Epoch 72/100\n",
            "782/782 [==============================] - 12s 16ms/step - loss: 0.3418 - val_loss: 0.5191\n",
            "\n",
            "Epoch 00072: val_loss did not improve from 0.47192\n",
            "Epoch 73/100\n",
            "782/782 [==============================] - 12s 16ms/step - loss: 0.3441 - val_loss: 0.5242\n",
            "\n",
            "Epoch 00073: val_loss did not improve from 0.47192\n",
            "Epoch 74/100\n",
            "782/782 [==============================] - 12s 16ms/step - loss: 0.3432 - val_loss: 0.5519\n",
            "\n",
            "Epoch 00074: val_loss did not improve from 0.47192\n",
            "Epoch 75/100\n",
            "782/782 [==============================] - 12s 16ms/step - loss: 0.3391 - val_loss: 0.5645\n",
            "\n",
            "Epoch 00075: val_loss did not improve from 0.47192\n",
            "Epoch 76/100\n",
            "782/782 [==============================] - 12s 16ms/step - loss: 0.3407 - val_loss: 0.5589\n",
            "\n",
            "Epoch 00076: val_loss did not improve from 0.47192\n",
            "Epoch 77/100\n",
            "782/782 [==============================] - 12s 16ms/step - loss: 0.3415 - val_loss: 0.5395\n",
            "\n",
            "Epoch 00077: val_loss did not improve from 0.47192\n",
            "Epoch 78/100\n",
            "782/782 [==============================] - 12s 16ms/step - loss: 0.3407 - val_loss: 0.5225\n",
            "\n",
            "Epoch 00078: val_loss did not improve from 0.47192\n",
            "Epoch 79/100\n",
            "782/782 [==============================] - 12s 16ms/step - loss: 0.3401 - val_loss: 0.5654\n",
            "\n",
            "Epoch 00079: val_loss did not improve from 0.47192\n",
            "Epoch 80/100\n",
            "782/782 [==============================] - 12s 16ms/step - loss: 0.3404 - val_loss: 0.5342\n",
            "\n",
            "Epoch 00080: val_loss did not improve from 0.47192\n",
            "Epoch 81/100\n",
            "782/782 [==============================] - 12s 16ms/step - loss: 0.3414 - val_loss: 0.5726\n",
            "\n",
            "Epoch 00081: val_loss did not improve from 0.47192\n",
            "Epoch 82/100\n",
            "782/782 [==============================] - 12s 16ms/step - loss: 0.3387 - val_loss: 0.5717\n",
            "\n",
            "Epoch 00082: val_loss did not improve from 0.47192\n",
            "Epoch 83/100\n",
            "782/782 [==============================] - 12s 16ms/step - loss: 0.3400 - val_loss: 0.5638\n",
            "\n",
            "Epoch 00083: val_loss did not improve from 0.47192\n",
            "Epoch 84/100\n",
            "782/782 [==============================] - 12s 16ms/step - loss: 0.3393 - val_loss: 0.5545\n",
            "\n",
            "Epoch 00084: val_loss did not improve from 0.47192\n",
            "Epoch 85/100\n",
            "782/782 [==============================] - 12s 16ms/step - loss: 0.3395 - val_loss: 0.5687\n",
            "\n",
            "Epoch 00085: val_loss did not improve from 0.47192\n",
            "Epoch 86/100\n",
            "782/782 [==============================] - 12s 16ms/step - loss: 0.3386 - val_loss: 0.5085\n",
            "\n",
            "Epoch 00086: val_loss did not improve from 0.47192\n",
            "Epoch 87/100\n",
            "782/782 [==============================] - 12s 16ms/step - loss: 0.3399 - val_loss: 0.5636\n",
            "\n",
            "Epoch 00087: val_loss did not improve from 0.47192\n",
            "Epoch 88/100\n",
            "782/782 [==============================] - 12s 16ms/step - loss: 0.3379 - val_loss: 0.5264\n",
            "\n",
            "Epoch 00088: val_loss did not improve from 0.47192\n",
            "Epoch 89/100\n",
            "782/782 [==============================] - 12s 16ms/step - loss: 0.3360 - val_loss: 0.5499\n",
            "\n",
            "Epoch 00089: val_loss did not improve from 0.47192\n",
            "Epoch 90/100\n",
            "782/782 [==============================] - 12s 16ms/step - loss: 0.3368 - val_loss: 0.5210\n",
            "\n",
            "Epoch 00090: val_loss did not improve from 0.47192\n",
            "Epoch 91/100\n",
            "782/782 [==============================] - 12s 16ms/step - loss: 0.3382 - val_loss: 0.5667\n",
            "\n",
            "Epoch 00091: val_loss did not improve from 0.47192\n",
            "Epoch 92/100\n",
            "782/782 [==============================] - 12s 16ms/step - loss: 0.3395 - val_loss: 0.5780\n",
            "\n",
            "Epoch 00092: val_loss did not improve from 0.47192\n",
            "Epoch 93/100\n",
            "782/782 [==============================] - 12s 16ms/step - loss: 0.3389 - val_loss: 0.5570\n",
            "\n",
            "Epoch 00093: val_loss did not improve from 0.47192\n",
            "Epoch 94/100\n",
            "782/782 [==============================] - 12s 16ms/step - loss: 0.3370 - val_loss: 0.5679\n",
            "\n",
            "Epoch 00094: val_loss did not improve from 0.47192\n",
            "Epoch 95/100\n",
            "782/782 [==============================] - 12s 16ms/step - loss: 0.3354 - val_loss: 0.5762\n",
            "\n",
            "Epoch 00095: val_loss did not improve from 0.47192\n",
            "Epoch 96/100\n",
            "782/782 [==============================] - 12s 16ms/step - loss: 0.3376 - val_loss: 0.5449\n",
            "\n",
            "Epoch 00096: val_loss did not improve from 0.47192\n",
            "Epoch 97/100\n",
            "782/782 [==============================] - 12s 16ms/step - loss: 0.3380 - val_loss: 0.5516\n",
            "\n",
            "Epoch 00097: val_loss did not improve from 0.47192\n",
            "Epoch 98/100\n",
            "782/782 [==============================] - 12s 16ms/step - loss: 0.3345 - val_loss: 0.5520\n",
            "\n",
            "Epoch 00098: val_loss did not improve from 0.47192\n",
            "Epoch 99/100\n",
            "782/782 [==============================] - 12s 16ms/step - loss: 0.3356 - val_loss: 0.5449\n",
            "\n",
            "Epoch 00099: val_loss did not improve from 0.47192\n",
            "Epoch 100/100\n",
            "782/782 [==============================] - 12s 16ms/step - loss: 0.3364 - val_loss: 0.5725\n",
            "\n",
            "Epoch 00100: val_loss did not improve from 0.47192\n"
          ],
          "name": "stdout"
        },
        {
          "output_type": "execute_result",
          "data": {
            "text/plain": [
              "<tensorflow.python.keras.callbacks.History at 0x7f6dde0e3748>"
            ]
          },
          "metadata": {
            "tags": []
          },
          "execution_count": 45
        }
      ]
    },
    {
      "cell_type": "code",
      "metadata": {
        "colab": {
          "base_uri": "https://localhost:8080/",
          "height": 522
        },
        "id": "SlOqpw3LT2Nf",
        "outputId": "b07c9a49-cf16-4394-baa4-1cd0a737e54d"
      },
      "source": [
        "tf.keras.utils.plot_model(model, to_file='model.png', show_shapes=True)"
      ],
      "execution_count": null,
      "outputs": [
        {
          "output_type": "execute_result",
          "data": {
            "image/png": "[encoded data removed]",
            "text/plain": [
              "<IPython.core.display.Image object>"
            ]
          },
          "metadata": {
            "tags": []
          },
          "execution_count": 35
        }
      ]
    },
    {
      "cell_type": "code",
      "metadata": {
        "colab": {
          "base_uri": "https://localhost:8080/",
          "height": 66,
          "referenced_widgets": [
            "e5282ca7ab084d2187eab0c24ac4e042",
            "e1a84b569c884c519605f9d1a5067f8d",
            "b74eeb879a6c4eceb850dd9c822d701f",
            "95e98b0122414c3a865e7a6502a99445",
            "a11fc0ecb71a42b3a034b2c835405024",
            "82b0eeed3e8c42ba8a032efb24c54db9",
            "8379718b683b4e4788b4ffc832041d45",
            "6f843213bb034a65b228730043566074"
          ]
        },
        "id": "DHdhrZAcvzj_",
        "outputId": "2d76710f-8c41-4c7c-d58e-202f364db6d6"
      },
      "source": [
        "# Now, will prepare our data to make predictions for Kaggle.\r\n",
        "x_pred=[]\r\n",
        "lang_pred=[]\r\n",
        "access_pred=[]\r\n",
        "agent_pred=[]\r\n",
        "for i in tnrange(train.shape[0]):\r\n",
        "    k=np.log1p(train.iloc[i].values[-200:])\r\n",
        "    x_pred.append(k)\r\n",
        "    index=Page_name[i].find('.wikipedia')\r\n",
        "    lang_pred.append(Page_name[i][index-1:index-3:-1][::-1])\r\n",
        "\r\n",
        "    if('spider' in Page_name[i]):\r\n",
        "        agent_pred.append('spider')\r\n",
        "    else:\r\n",
        "        agent_pred.append('non-spider') \r\n",
        " \r\n",
        "    k=max([i.start() for i in re.finditer('org_',Page_name[i])])   #https://www.geeksforgeeks.org/python-all-occurrences-of-substring-in-string/\r\n",
        "    if('all-access' in Page_name[i][k:]):\r\n",
        "        access_pred.append('all_access')\r\n",
        "    if('desktop' in Page_name[i][k:]):\r\n",
        "        access_pred.append('desktop')\r\n",
        "    if('mobile' in Page_name[i][k:]): \r\n",
        "        access_pred.append('mobile')\r\n",
        "x_pred=np.array(x_pred).reshape(train.shape[0],200,1)\r\n",
        "lang_pred=lang_enc.transform(lang_pred).reshape(len(lang_pred),1)\r\n",
        "access_pred=access_enc.transform(access_pred).reshape(len(access_pred),1)\r\n",
        "spider_pred=spider_enc.transform(agent_pred).reshape(len(agent_pred),1)   \r\n",
        "pred=model.predict([x_pred,access_pred,lang_pred,spider_pred])\r\n"
      ],
      "execution_count": null,
      "outputs": [
        {
          "output_type": "display_data",
          "data": {
            "application/vnd.jupyter.widget-view+json": {
              "model_id": "e5282ca7ab084d2187eab0c24ac4e042",
              "version_major": 2,
              "version_minor": 0
            },
            "text/plain": [
              "HBox(children=(FloatProgress(value=0.0, max=145063.0), HTML(value='')))"
            ]
          },
          "metadata": {
            "tags": []
          }
        },
        {
          "output_type": "stream",
          "text": [
            "\n"
          ],
          "name": "stdout"
        }
      ]
    },
    {
      "cell_type": "code",
      "metadata": {
        "colab": {
          "base_uri": "https://localhost:8080/",
          "height": 66,
          "referenced_widgets": [
            "222b35d1f52d401dbe0b5839024f5a25",
            "40d5d2bdbe854f78b64c877e301282a1",
            "924423c78dda44ed84a3740189393fcd",
            "414d1546d8604aaa814ffaeb6c73653a",
            "cc30ab37b52248cc9837b1897aa409f5",
            "9b9e2e59e0fd428db666d3388e7d55a4",
            "ef55d690fc9e44809ca9fcedf971b142",
            "6ed1ff8e64f04b08b69d3edbc0021350"
          ]
        },
        "id": "_f-RT1RAv9P_",
        "outputId": "1cd04dc5-aa02-4c0c-b70d-70cae7430552"
      },
      "source": [
        "#Converting data to original form\r\n",
        "for i in tnrange(pred.shape[0]):\r\n",
        "    pred[i]=np.expm1(pred[i])"
      ],
      "execution_count": null,
      "outputs": [
        {
          "output_type": "display_data",
          "data": {
            "application/vnd.jupyter.widget-view+json": {
              "model_id": "222b35d1f52d401dbe0b5839024f5a25",
              "version_major": 2,
              "version_minor": 0
            },
            "text/plain": [
              "HBox(children=(FloatProgress(value=0.0, max=145063.0), HTML(value='')))"
            ]
          },
          "metadata": {
            "tags": []
          }
        },
        {
          "output_type": "stream",
          "text": [
            "\n"
          ],
          "name": "stdout"
        }
      ]
    },
    {
      "cell_type": "code",
      "metadata": {
        "colab": {
          "base_uri": "https://localhost:8080/",
          "height": 66,
          "referenced_widgets": [
            "cfbcd2dce52b4cb3b6940b631c6244e4",
            "4424230e3f2b44c68ed4e6733eb5315e",
            "7189c0a5a3774a28b59eb5889b7fc42b",
            "fb928d0899f649058c7bd6c5a18ad7b8",
            "56a20d7f8df0486e962ee353476788a0",
            "d456399c9f9d486d8cb737efee71647d",
            "892ed02e3648426d8cda3cb50d83487c",
            "145a6bf23abe43d8992f533413522f8c"
          ]
        },
        "id": "02CmtDtOwL6F",
        "outputId": "85b127fb-7d9a-444a-a789-db9a873b5b10"
      },
      "source": [
        "# Below code takes name of each page from train data which contains 145063*62 rows i.e. 62 names for each page\r\n",
        "ids=key['Page'].values\r\n",
        "visits={} # In this we will store our predictions, keys are the name of the page and values are the predictions\r\n",
        "for i in tnrange(train.shape[0]):\r\n",
        "    date = datetime.date(2017,9,13)\r\n",
        "    for j in range(62):\r\n",
        "        name=Page_name[i] + '_' + str(date)\r\n",
        "        visits[name]=pred[i][j+2]\r\n",
        "        date += datetime.timedelta(days=1)  "
      ],
      "execution_count": null,
      "outputs": [
        {
          "output_type": "display_data",
          "data": {
            "application/vnd.jupyter.widget-view+json": {
              "model_id": "cfbcd2dce52b4cb3b6940b631c6244e4",
              "version_major": 2,
              "version_minor": 0
            },
            "text/plain": [
              "HBox(children=(FloatProgress(value=0.0, max=145063.0), HTML(value='')))"
            ]
          },
          "metadata": {
            "tags": []
          }
        },
        {
          "output_type": "stream",
          "text": [
            "\n"
          ],
          "name": "stdout"
        }
      ]
    },
    {
      "cell_type": "code",
      "metadata": {
        "colab": {
          "base_uri": "https://localhost:8080/",
          "height": 66,
          "referenced_widgets": [
            "2dabac5b1311402aa23d132da3a0e6b6",
            "b78d707cf4d341d1aed515eb48eaa1f7",
            "44fdf3b82877457583b8f2e35d07a1eb",
            "f819b019fe58440c90a136fe78d8e8ec",
            "1dcaca223ad541eebfa9df38b1017ea0",
            "826fa61a020c4b87bf58973fe8ecc579",
            "917c0a9aaf6c4870ad76203174a6e1d7",
            "0e6c66525a3b44a29fb70260ad6b1c64"
          ]
        },
        "id": "6hi9VKsdwlMc",
        "outputId": "59affb84-6c41-4d26-db0d-9fad00d0ce6f"
      },
      "source": [
        "# Below code maps each page name to the corresponding id for Kaggle submission\r\n",
        "for i in tnrange(len(ids)):\r\n",
        "    submit_file.at[i,'Visits']=visits[ids[i]]"
      ],
      "execution_count": null,
      "outputs": [
        {
          "output_type": "display_data",
          "data": {
            "application/vnd.jupyter.widget-view+json": {
              "model_id": "2dabac5b1311402aa23d132da3a0e6b6",
              "version_major": 2,
              "version_minor": 0
            },
            "text/plain": [
              "HBox(children=(FloatProgress(value=0.0, max=8993906.0), HTML(value='')))"
            ]
          },
          "metadata": {
            "tags": []
          }
        },
        {
          "output_type": "stream",
          "text": [
            "\n"
          ],
          "name": "stdout"
        }
      ]
    },
    {
      "cell_type": "code",
      "metadata": {
        "colab": {
          "base_uri": "https://localhost:8080/"
        },
        "id": "4kLLtU1kxmeM",
        "outputId": "dc2ac240-fedf-4f8f-f755-cdf4b8633480"
      },
      "source": [
        "submit_file.head()"
      ],
      "execution_count": null,
      "outputs": [
        {
          "output_type": "execute_result",
          "data": {
            "text/html": [
              "<div>\n",
              "<style scoped>\n",
              "    .dataframe tbody tr th:only-of-type {\n",
              "        vertical-align: middle;\n",
              "    }\n",
              "\n",
              "    .dataframe tbody tr th {\n",
              "        vertical-align: top;\n",
              "    }\n",
              "\n",
              "    .dataframe thead th {\n",
              "        text-align: right;\n",
              "    }\n",
              "</style>\n",
              "<table border=\"1\" class=\"dataframe\">\n",
              "  <thead>\n",
              "    <tr style=\"text-align: right;\">\n",
              "      <th></th>\n",
              "      <th>Id</th>\n",
              "      <th>Visits</th>\n",
              "    </tr>\n",
              "  </thead>\n",
              "  <tbody>\n",
              "    <tr>\n",
              "      <th>0</th>\n",
              "      <td>0b293039387a</td>\n",
              "      <td>423</td>\n",
              "    </tr>\n",
              "    <tr>\n",
              "      <th>1</th>\n",
              "      <td>7114389dd824</td>\n",
              "      <td>408</td>\n",
              "    </tr>\n",
              "    <tr>\n",
              "      <th>2</th>\n",
              "      <td>057b02ff1f09</td>\n",
              "      <td>412</td>\n",
              "    </tr>\n",
              "    <tr>\n",
              "      <th>3</th>\n",
              "      <td>bd2aca21caa3</td>\n",
              "      <td>398</td>\n",
              "    </tr>\n",
              "    <tr>\n",
              "      <th>4</th>\n",
              "      <td>c0effb42cdd5</td>\n",
              "      <td>456</td>\n",
              "    </tr>\n",
              "  </tbody>\n",
              "</table>\n",
              "</div>"
            ],
            "text/plain": [
              "             Id  Visits\n",
              "0  0b293039387a     423\n",
              "1  7114389dd824     408\n",
              "2  057b02ff1f09     412\n",
              "3  bd2aca21caa3     398\n",
              "4  c0effb42cdd5     456"
            ]
          },
          "metadata": {
            "tags": []
          },
          "execution_count": 43
        }
      ]
    },
    {
      "cell_type": "code",
      "metadata": {
        "id": "Qo32CnynxuET"
      },
      "source": [
        "submit_file.to_csv('kaggle_lstm4.csv',index=False)"
      ],
      "execution_count": null,
      "outputs": []
    },
    {
      "cell_type": "code",
      "metadata": {
        "colab": {
          "background_save": true,
          "base_uri": "https://localhost:8080/"
        },
        "id": "AjEtd4XVx0yQ",
        "outputId": "2d7dacda-8532-4b6a-dc8e-4019b3291a84"
      },
      "source": [
        "!kaggle competitions submit -c web-traffic-time-series-forecasting -f kaggle_lstm4.csv -m \"Prediction done after feature engineering lstm,conv1d\""
      ],
      "execution_count": null,
      "outputs": [
        {
          "output_type": "stream",
          "text": [
            "Warning: Looks like you're using an outdated API Version, please consider updating (server 1.5.10 / client 1.5.4)\n",
            "100% 140M/140M [00:01<00:00, 80.6MB/s]\n",
            "Successfully submitted to Web Traffic Time Series Forecasting"
          ],
          "name": "stdout"
        }
      ]
    },
    {
      "cell_type": "markdown",
      "metadata": {
        "id": "LRzw_TT8ZJMG"
      },
      "source": [
        "<h3>Submission with only LSTM</h3>"
      ]
    },
    {
      "cell_type": "markdown",
      "metadata": {
        "id": "ooI4Pf1d1ndG"
      },
      "source": [
        "![image.png](data:image/png;base64,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)"
      ]
    },
    {
      "cell_type": "markdown",
      "metadata": {
        "id": "-lPfnQLg1yn4"
      },
      "source": [
        "The score is good and it takes us in top 10% on leaderboard and 92/1095 position."
      ]
    },
    {
      "cell_type": "markdown",
      "metadata": {
        "id": "rbyiBI3yZTUO"
      },
      "source": [
        "Submission with LSTM and Conv1D\r\n",
        "\r\n",
        "![image.png](data:image/png;base64,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)"
      ]
    },
    {
      "cell_type": "markdown",
      "metadata": {
        "id": "K_OdeVsEZ06N"
      },
      "source": [
        "Tried to add Conv1d layer to improve the accuracy but seems that kaggle score increased. Also added some more layers of LSTM but still the score was increased. It might possoble due to overfitting of the model to overcome this added the dropout layer but it will not affect much on score still the score was not decreased further.  "
      ]
    },
    {
      "cell_type": "markdown",
      "metadata": {
        "id": "gdxwIDY52eLE"
      },
      "source": [
        "Comparitive study of all the models that tried"
      ]
    },
    {
      "cell_type": "code",
      "metadata": {
        "colab": {
          "base_uri": "https://localhost:8080/"
        },
        "id": "sH4d801W2bcn",
        "outputId": "9db74123-2162-4af9-8416-93004b32354c"
      },
      "source": [
        "from prettytable import PrettyTable\r\n",
        "x = PrettyTable()\r\n",
        "x = PrettyTable([\"Sno.\",\"Model\", \"Kaggle Score\"])\r\n",
        "x.add_row([1,'Median Model',48.73])\r\n",
        "x.add_row([2,'Decision Tree',199.98])\r\n",
        "x.add_row([3,'Random Forest',199.978])\r\n",
        "x.add_row([4,'XgBoost',199.976])\r\n",
        "x.add_row([5,'LSTM',40.94])\r\n",
        "x.add_row([6,'LSTM+conv1d',42.02])\r\n",
        "x.add_row([7,'LSTM+conv1d+dropout',42.44])\r\n",
        "\r\n",
        "print(x)"
      ],
      "execution_count": 2,
      "outputs": [
        {
          "output_type": "stream",
          "text": [
            "+------+---------------------+--------------+\n",
            "| Sno. |        Model        | Kaggle Score |\n",
            "+------+---------------------+--------------+\n",
            "|  1   |     Median Model    |    48.73     |\n",
            "|  2   |    Decision Tree    |    199.98    |\n",
            "|  3   |    Random Forest    |   199.978    |\n",
            "|  4   |       XgBoost       |   199.976    |\n",
            "|  5   |         LSTM        |    40.94     |\n",
            "|  6   |     LSTM+conv1d     |    42.02     |\n",
            "|  7   | LSTM+conv1d+dropout |    42.44     |\n",
            "+------+---------------------+--------------+\n"
          ],
          "name": "stdout"
        }
      ]
    },
    {
      "cell_type": "markdown",
      "metadata": {
        "id": "Ph0yfvMxXFBp"
      },
      "source": [
        "Tree based model was unable to perform good, their scores were worse than median model but LSTM proved to be a good choice maybe the reason is that they are specialised in seq-seq prediction."
      ]
    }
  ]
}